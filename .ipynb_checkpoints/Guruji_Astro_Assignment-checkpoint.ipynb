{
 "cells": [
  {
   "cell_type": "code",
   "execution_count": 1,
   "id": "749a5735-7538-4d86-b96b-2c7292720797",
   "metadata": {},
   "outputs": [],
   "source": [
    "import numpy as np\n",
    "import pandas as pd\n",
    "import matplotlib.pyplot as plt\n",
    "import seaborn as sns"
   ]
  },
  {
   "cell_type": "code",
   "execution_count": 2,
   "id": "1c00aba6-25b8-410f-a10b-66c610cc5b31",
   "metadata": {},
   "outputs": [
    {
     "data": {
      "text/html": [
       "<div>\n",
       "<style scoped>\n",
       "    .dataframe tbody tr th:only-of-type {\n",
       "        vertical-align: middle;\n",
       "    }\n",
       "\n",
       "    .dataframe tbody tr th {\n",
       "        vertical-align: top;\n",
       "    }\n",
       "\n",
       "    .dataframe thead th {\n",
       "        text-align: right;\n",
       "    }\n",
       "</style>\n",
       "<table border=\"1\" class=\"dataframe\">\n",
       "  <thead>\n",
       "    <tr style=\"text-align: right;\">\n",
       "      <th></th>\n",
       "      <th>_id</th>\n",
       "      <th>user</th>\n",
       "      <th>chatStatus</th>\n",
       "      <th>guru</th>\n",
       "      <th>guruName</th>\n",
       "      <th>gid</th>\n",
       "      <th>uid</th>\n",
       "      <th>consultationType</th>\n",
       "      <th>website</th>\n",
       "      <th>refundStatus</th>\n",
       "      <th>...</th>\n",
       "      <th>feedback</th>\n",
       "      <th>hideHistory</th>\n",
       "      <th>cardPosition</th>\n",
       "      <th>Remedies</th>\n",
       "      <th>offer</th>\n",
       "      <th>refunds[0]</th>\n",
       "      <th>source</th>\n",
       "      <th>callSeconds</th>\n",
       "      <th>complementaryCallOrganiser</th>\n",
       "      <th>disconnectedBy</th>\n",
       "    </tr>\n",
       "  </thead>\n",
       "  <tbody>\n",
       "    <tr>\n",
       "      <th>0</th>\n",
       "      <td>656922f2919324acb6e87139</td>\n",
       "      <td>65691b0c919324acb6e7e046</td>\n",
       "      <td>incomplete</td>\n",
       "      <td>65054786f5f203225bfcdd0d</td>\n",
       "      <td>Astro  Sanjeev</td>\n",
       "      <td>95</td>\n",
       "      <td>30129</td>\n",
       "      <td>Chat</td>\n",
       "      <td>gurucool</td>\n",
       "      <td>no-refund</td>\n",
       "      <td>...</td>\n",
       "      <td>NaN</td>\n",
       "      <td>NaN</td>\n",
       "      <td>NaN</td>\n",
       "      <td>NaN</td>\n",
       "      <td>NaN</td>\n",
       "      <td>NaN</td>\n",
       "      <td>NaN</td>\n",
       "      <td>NaN</td>\n",
       "      <td>NaN</td>\n",
       "      <td>NaN</td>\n",
       "    </tr>\n",
       "    <tr>\n",
       "      <th>1</th>\n",
       "      <td>65692413919324acb6e87441</td>\n",
       "      <td>65691b0c919324acb6e7e046</td>\n",
       "      <td>incomplete</td>\n",
       "      <td>65054786f5f203225bfcdd0d</td>\n",
       "      <td>Astro  Sanjeev</td>\n",
       "      <td>95</td>\n",
       "      <td>30129</td>\n",
       "      <td>Chat</td>\n",
       "      <td>gurucool</td>\n",
       "      <td>no-refund</td>\n",
       "      <td>...</td>\n",
       "      <td>NaN</td>\n",
       "      <td>NaN</td>\n",
       "      <td>NaN</td>\n",
       "      <td>NaN</td>\n",
       "      <td>NaN</td>\n",
       "      <td>NaN</td>\n",
       "      <td>NaN</td>\n",
       "      <td>NaN</td>\n",
       "      <td>NaN</td>\n",
       "      <td>NaN</td>\n",
       "    </tr>\n",
       "    <tr>\n",
       "      <th>2</th>\n",
       "      <td>65692612919324acb6e87738</td>\n",
       "      <td>656528dcee2b1ab52f019119</td>\n",
       "      <td>incomplete</td>\n",
       "      <td>65054786f5f203225bfcdd0d</td>\n",
       "      <td>Astro  Sanjeev</td>\n",
       "      <td>95</td>\n",
       "      <td>28743</td>\n",
       "      <td>Chat</td>\n",
       "      <td>gurucool</td>\n",
       "      <td>no-refund</td>\n",
       "      <td>...</td>\n",
       "      <td>NaN</td>\n",
       "      <td>NaN</td>\n",
       "      <td>NaN</td>\n",
       "      <td>NaN</td>\n",
       "      <td>NaN</td>\n",
       "      <td>NaN</td>\n",
       "      <td>NaN</td>\n",
       "      <td>NaN</td>\n",
       "      <td>NaN</td>\n",
       "      <td>NaN</td>\n",
       "    </tr>\n",
       "    <tr>\n",
       "      <th>3</th>\n",
       "      <td>656927c9919324acb6e87b2f</td>\n",
       "      <td>6568ee9f919324acb6e77e53</td>\n",
       "      <td>incomplete</td>\n",
       "      <td>65054786f5f203225bfcdd0d</td>\n",
       "      <td>Astro  Sanjeev</td>\n",
       "      <td>95</td>\n",
       "      <td>30120</td>\n",
       "      <td>Chat</td>\n",
       "      <td>gurucool</td>\n",
       "      <td>no-refund</td>\n",
       "      <td>...</td>\n",
       "      <td>NaN</td>\n",
       "      <td>NaN</td>\n",
       "      <td>NaN</td>\n",
       "      <td>NaN</td>\n",
       "      <td>NaN</td>\n",
       "      <td>NaN</td>\n",
       "      <td>NaN</td>\n",
       "      <td>NaN</td>\n",
       "      <td>NaN</td>\n",
       "      <td>NaN</td>\n",
       "    </tr>\n",
       "    <tr>\n",
       "      <th>4</th>\n",
       "      <td>65692d75919324acb6e882dd</td>\n",
       "      <td>65629cfc4232eb704d712d98</td>\n",
       "      <td>failed</td>\n",
       "      <td>65054786f5f203225bfcdd0d</td>\n",
       "      <td>Astro  Sanjeev</td>\n",
       "      <td>95</td>\n",
       "      <td>27790</td>\n",
       "      <td>Chat</td>\n",
       "      <td>gurucool</td>\n",
       "      <td>no-refund</td>\n",
       "      <td>...</td>\n",
       "      <td>NaN</td>\n",
       "      <td>NaN</td>\n",
       "      <td>NaN</td>\n",
       "      <td>NaN</td>\n",
       "      <td>NaN</td>\n",
       "      <td>NaN</td>\n",
       "      <td>NaN</td>\n",
       "      <td>NaN</td>\n",
       "      <td>NaN</td>\n",
       "      <td>NaN</td>\n",
       "    </tr>\n",
       "    <tr>\n",
       "      <th>...</th>\n",
       "      <td>...</td>\n",
       "      <td>...</td>\n",
       "      <td>...</td>\n",
       "      <td>...</td>\n",
       "      <td>...</td>\n",
       "      <td>...</td>\n",
       "      <td>...</td>\n",
       "      <td>...</td>\n",
       "      <td>...</td>\n",
       "      <td>...</td>\n",
       "      <td>...</td>\n",
       "      <td>...</td>\n",
       "      <td>...</td>\n",
       "      <td>...</td>\n",
       "      <td>...</td>\n",
       "      <td>...</td>\n",
       "      <td>...</td>\n",
       "      <td>...</td>\n",
       "      <td>...</td>\n",
       "      <td>...</td>\n",
       "      <td>...</td>\n",
       "    </tr>\n",
       "    <tr>\n",
       "      <th>28022</th>\n",
       "      <td>6595ef62849de2bb564ed9fb</td>\n",
       "      <td>6592ef86270572b0ca26a3e3</td>\n",
       "      <td>completed</td>\n",
       "      <td>6522d40f0562f2f5e506c1c4</td>\n",
       "      <td>Super  Guru Ji</td>\n",
       "      <td>227</td>\n",
       "      <td>43361</td>\n",
       "      <td>Chat</td>\n",
       "      <td>gurucool</td>\n",
       "      <td>no-refund</td>\n",
       "      <td>...</td>\n",
       "      <td>NaN</td>\n",
       "      <td>False</td>\n",
       "      <td>NaN</td>\n",
       "      <td>NaN</td>\n",
       "      <td>normal</td>\n",
       "      <td>NaN</td>\n",
       "      <td>Test</td>\n",
       "      <td>NaN</td>\n",
       "      <td>NaN</td>\n",
       "      <td>user</td>\n",
       "    </tr>\n",
       "    <tr>\n",
       "      <th>28023</th>\n",
       "      <td>6595f1f3849de2bb564edd7e</td>\n",
       "      <td>6592ef86270572b0ca26a3e3</td>\n",
       "      <td>NaN</td>\n",
       "      <td>65054784f5f203225bfcdcd1</td>\n",
       "      <td>Tarot  Rupanshi</td>\n",
       "      <td>74</td>\n",
       "      <td>43361</td>\n",
       "      <td>Call</td>\n",
       "      <td>app</td>\n",
       "      <td>no-refund</td>\n",
       "      <td>...</td>\n",
       "      <td>NaN</td>\n",
       "      <td>False</td>\n",
       "      <td>NaN</td>\n",
       "      <td>NaN</td>\n",
       "      <td>normal</td>\n",
       "      <td>NaN</td>\n",
       "      <td>Test</td>\n",
       "      <td>NaN</td>\n",
       "      <td>NaN</td>\n",
       "      <td>NaN</td>\n",
       "    </tr>\n",
       "    <tr>\n",
       "      <th>28024</th>\n",
       "      <td>6595f23d849de2bb564ee1c9</td>\n",
       "      <td>6592ef86270572b0ca26a3e3</td>\n",
       "      <td>NaN</td>\n",
       "      <td>65054786f5f203225bfcdd0d</td>\n",
       "      <td>Astro  Sanjeev</td>\n",
       "      <td>95</td>\n",
       "      <td>43361</td>\n",
       "      <td>Call</td>\n",
       "      <td>app</td>\n",
       "      <td>no-refund</td>\n",
       "      <td>...</td>\n",
       "      <td>NaN</td>\n",
       "      <td>False</td>\n",
       "      <td>NaN</td>\n",
       "      <td>NaN</td>\n",
       "      <td>normal</td>\n",
       "      <td>NaN</td>\n",
       "      <td>Test</td>\n",
       "      <td>NaN</td>\n",
       "      <td>NaN</td>\n",
       "      <td>NaN</td>\n",
       "    </tr>\n",
       "    <tr>\n",
       "      <th>28025</th>\n",
       "      <td>6595f384883c1bbae79c58e3</td>\n",
       "      <td>6595f36c883c1bbae79c57c9</td>\n",
       "      <td>failed</td>\n",
       "      <td>6522d40f0562f2f5e506c1c4</td>\n",
       "      <td>Super  Guru Ji</td>\n",
       "      <td>227</td>\n",
       "      <td>44005</td>\n",
       "      <td>Chat</td>\n",
       "      <td>gurucool</td>\n",
       "      <td>no-refund</td>\n",
       "      <td>...</td>\n",
       "      <td>NaN</td>\n",
       "      <td>False</td>\n",
       "      <td>NaN</td>\n",
       "      <td>NaN</td>\n",
       "      <td>first</td>\n",
       "      <td>NaN</td>\n",
       "      <td>Production</td>\n",
       "      <td>NaN</td>\n",
       "      <td>NaN</td>\n",
       "      <td>NaN</td>\n",
       "    </tr>\n",
       "    <tr>\n",
       "      <th>28026</th>\n",
       "      <td>6595f407883c1bbae79c6e11</td>\n",
       "      <td>6595f36c883c1bbae79c57c9</td>\n",
       "      <td>incomplete</td>\n",
       "      <td>6522d40f0562f2f5e506c1c4</td>\n",
       "      <td>Super  Guru Ji</td>\n",
       "      <td>227</td>\n",
       "      <td>44005</td>\n",
       "      <td>Chat</td>\n",
       "      <td>gurucool</td>\n",
       "      <td>no-refund</td>\n",
       "      <td>...</td>\n",
       "      <td>NaN</td>\n",
       "      <td>False</td>\n",
       "      <td>NaN</td>\n",
       "      <td>NaN</td>\n",
       "      <td>first</td>\n",
       "      <td>NaN</td>\n",
       "      <td>Production</td>\n",
       "      <td>NaN</td>\n",
       "      <td>NaN</td>\n",
       "      <td>NaN</td>\n",
       "    </tr>\n",
       "  </tbody>\n",
       "</table>\n",
       "<p>28027 rows × 45 columns</p>\n",
       "</div>"
      ],
      "text/plain": [
       "                            _id                      user  chatStatus  \\\n",
       "0      656922f2919324acb6e87139  65691b0c919324acb6e7e046  incomplete   \n",
       "1      65692413919324acb6e87441  65691b0c919324acb6e7e046  incomplete   \n",
       "2      65692612919324acb6e87738  656528dcee2b1ab52f019119  incomplete   \n",
       "3      656927c9919324acb6e87b2f  6568ee9f919324acb6e77e53  incomplete   \n",
       "4      65692d75919324acb6e882dd  65629cfc4232eb704d712d98      failed   \n",
       "...                         ...                       ...         ...   \n",
       "28022  6595ef62849de2bb564ed9fb  6592ef86270572b0ca26a3e3   completed   \n",
       "28023  6595f1f3849de2bb564edd7e  6592ef86270572b0ca26a3e3         NaN   \n",
       "28024  6595f23d849de2bb564ee1c9  6592ef86270572b0ca26a3e3         NaN   \n",
       "28025  6595f384883c1bbae79c58e3  6595f36c883c1bbae79c57c9      failed   \n",
       "28026  6595f407883c1bbae79c6e11  6595f36c883c1bbae79c57c9  incomplete   \n",
       "\n",
       "                           guru          guruName  gid    uid  \\\n",
       "0      65054786f5f203225bfcdd0d    Astro  Sanjeev   95  30129   \n",
       "1      65054786f5f203225bfcdd0d    Astro  Sanjeev   95  30129   \n",
       "2      65054786f5f203225bfcdd0d    Astro  Sanjeev   95  28743   \n",
       "3      65054786f5f203225bfcdd0d    Astro  Sanjeev   95  30120   \n",
       "4      65054786f5f203225bfcdd0d    Astro  Sanjeev   95  27790   \n",
       "...                         ...               ...  ...    ...   \n",
       "28022  6522d40f0562f2f5e506c1c4    Super  Guru Ji  227  43361   \n",
       "28023  65054784f5f203225bfcdcd1  Tarot  Rupanshi    74  43361   \n",
       "28024  65054786f5f203225bfcdd0d    Astro  Sanjeev   95  43361   \n",
       "28025  6522d40f0562f2f5e506c1c4    Super  Guru Ji  227  44005   \n",
       "28026  6522d40f0562f2f5e506c1c4    Super  Guru Ji  227  44005   \n",
       "\n",
       "      consultationType   website refundStatus  ...  feedback  hideHistory  \\\n",
       "0                 Chat  gurucool    no-refund  ...       NaN          NaN   \n",
       "1                 Chat  gurucool    no-refund  ...       NaN          NaN   \n",
       "2                 Chat  gurucool    no-refund  ...       NaN          NaN   \n",
       "3                 Chat  gurucool    no-refund  ...       NaN          NaN   \n",
       "4                 Chat  gurucool    no-refund  ...       NaN          NaN   \n",
       "...                ...       ...          ...  ...       ...          ...   \n",
       "28022             Chat  gurucool    no-refund  ...       NaN        False   \n",
       "28023             Call       app    no-refund  ...       NaN        False   \n",
       "28024             Call       app    no-refund  ...       NaN        False   \n",
       "28025             Chat  gurucool    no-refund  ...       NaN        False   \n",
       "28026             Chat  gurucool    no-refund  ...       NaN        False   \n",
       "\n",
       "       cardPosition  Remedies   offer refunds[0]      source  callSeconds  \\\n",
       "0               NaN       NaN     NaN        NaN         NaN          NaN   \n",
       "1               NaN       NaN     NaN        NaN         NaN          NaN   \n",
       "2               NaN       NaN     NaN        NaN         NaN          NaN   \n",
       "3               NaN       NaN     NaN        NaN         NaN          NaN   \n",
       "4               NaN       NaN     NaN        NaN         NaN          NaN   \n",
       "...             ...       ...     ...        ...         ...          ...   \n",
       "28022           NaN       NaN  normal        NaN        Test          NaN   \n",
       "28023           NaN       NaN  normal        NaN        Test          NaN   \n",
       "28024           NaN       NaN  normal        NaN        Test          NaN   \n",
       "28025           NaN       NaN   first        NaN  Production          NaN   \n",
       "28026           NaN       NaN   first        NaN  Production          NaN   \n",
       "\n",
       "      complementaryCallOrganiser disconnectedBy  \n",
       "0                            NaN            NaN  \n",
       "1                            NaN            NaN  \n",
       "2                            NaN            NaN  \n",
       "3                            NaN            NaN  \n",
       "4                            NaN            NaN  \n",
       "...                          ...            ...  \n",
       "28022                        NaN           user  \n",
       "28023                        NaN            NaN  \n",
       "28024                        NaN            NaN  \n",
       "28025                        NaN            NaN  \n",
       "28026                        NaN            NaN  \n",
       "\n",
       "[28027 rows x 45 columns]"
      ]
     },
     "execution_count": 2,
     "metadata": {},
     "output_type": "execute_result"
    }
   ],
   "source": [
    "df=pd.read_csv('dataset.csv', encoding='utf-8', encoding_errors='replace', low_memory=False)\n",
    "df"
   ]
  },
  {
   "cell_type": "code",
   "execution_count": 3,
   "id": "22b82526-3e73-42fb-8e7d-deee31b2c580",
   "metadata": {},
   "outputs": [
    {
     "name": "stdout",
     "output_type": "stream",
     "text": [
      "<class 'pandas.core.frame.DataFrame'>\n",
      "RangeIndex: 28027 entries, 0 to 28026\n",
      "Data columns (total 45 columns):\n",
      " #   Column                      Non-Null Count  Dtype  \n",
      "---  ------                      --------------  -----  \n",
      " 0   _id                         28027 non-null  object \n",
      " 1   user                        28027 non-null  object \n",
      " 2   chatStatus                  19515 non-null  object \n",
      " 3   guru                        28027 non-null  object \n",
      " 4   guruName                    28027 non-null  object \n",
      " 5   gid                         28027 non-null  int64  \n",
      " 6   uid                         28027 non-null  int64  \n",
      " 7   consultationType            28027 non-null  object \n",
      " 8   website                     28027 non-null  object \n",
      " 9   refundStatus                28027 non-null  object \n",
      " 10  isWhiteListUser             28027 non-null  bool   \n",
      " 11  chatSeconds                 19514 non-null  float64\n",
      " 12  queue                       28027 non-null  bool   \n",
      " 13  freeCall                    28027 non-null  bool   \n",
      " 14  freeChat                    28027 non-null  bool   \n",
      " 15  createdAt                   28027 non-null  object \n",
      " 16  updatedAt                   28027 non-null  object \n",
      " 17  __v                         28027 non-null  int64  \n",
      " 18  statementEntryId            27876 non-null  object \n",
      " 19  chatStartTime               9330 non-null   object \n",
      " 20  chatEndTime                 13031 non-null  object \n",
      " 21  timeDuration                21398 non-null  float64\n",
      " 22  callChannel                 8508 non-null   object \n",
      " 23  callIvrType                 8362 non-null   object \n",
      " 24  callStatus                  8541 non-null   object \n",
      " 25  CallSid                     8365 non-null   object \n",
      " 26  amount                      9016 non-null   float64\n",
      " 27  astrologerCallStatus        16258 non-null  object \n",
      " 28  astrologerOnCallDuration    8365 non-null   float64\n",
      " 29  astrologersEarnings         9016 non-null   float64\n",
      " 30  netAmount                   9016 non-null   float64\n",
      " 31  region                      9019 non-null   object \n",
      " 32  userCallStatus              9345 non-null   object \n",
      " 33  userOnCallDuration          8365 non-null   float64\n",
      " 34  RecordingUrl                4325 non-null   object \n",
      " 35  feedback                    2616 non-null   object \n",
      " 36  hideHistory                 19338 non-null  object \n",
      " 37  cardPosition                710 non-null    object \n",
      " 38  Remedies                    102 non-null    object \n",
      " 39  offer                       18778 non-null  object \n",
      " 40  refunds[0]                  5 non-null      object \n",
      " 41  source                      16291 non-null  object \n",
      " 42  callSeconds                 2 non-null      float64\n",
      " 43  complementaryCallOrganiser  2 non-null      object \n",
      " 44  disconnectedBy              9 non-null      object \n",
      "dtypes: bool(4), float64(8), int64(3), object(30)\n",
      "memory usage: 8.9+ MB\n"
     ]
    }
   ],
   "source": [
    "df.info()"
   ]
  },
  {
   "cell_type": "code",
   "execution_count": 4,
   "id": "6077b511-105f-4d07-813b-114f50c0966d",
   "metadata": {},
   "outputs": [
    {
     "data": {
      "text/plain": [
       "_id                            0.000000\n",
       "user                           0.000000\n",
       "chatStatus                    30.370714\n",
       "guru                           0.000000\n",
       "guruName                       0.000000\n",
       "gid                            0.000000\n",
       "uid                            0.000000\n",
       "consultationType               0.000000\n",
       "website                        0.000000\n",
       "refundStatus                   0.000000\n",
       "isWhiteListUser                0.000000\n",
       "chatSeconds                   30.374282\n",
       "queue                          0.000000\n",
       "freeCall                       0.000000\n",
       "freeChat                       0.000000\n",
       "createdAt                      0.000000\n",
       "updatedAt                      0.000000\n",
       "__v                            0.000000\n",
       "statementEntryId               0.538766\n",
       "chatStartTime                 66.710672\n",
       "chatEndTime                   53.505548\n",
       "timeDuration                  23.652193\n",
       "callChannel                   69.643558\n",
       "callIvrType                   70.164484\n",
       "callStatus                    69.525814\n",
       "CallSid                       70.153780\n",
       "amount                        67.831020\n",
       "astrologerCallStatus          41.991651\n",
       "astrologerOnCallDuration      70.153780\n",
       "astrologersEarnings           67.831020\n",
       "netAmount                     67.831020\n",
       "region                        67.820316\n",
       "userCallStatus                66.657152\n",
       "userOnCallDuration            70.153780\n",
       "RecordingUrl                  84.568452\n",
       "feedback                      90.666143\n",
       "hideHistory                   31.002248\n",
       "cardPosition                  97.466729\n",
       "Remedies                      99.636065\n",
       "offer                         33.000321\n",
       "refunds[0]                    99.982160\n",
       "source                        41.873907\n",
       "callSeconds                   99.992864\n",
       "complementaryCallOrganiser    99.992864\n",
       "disconnectedBy                99.967888\n",
       "dtype: float64"
      ]
     },
     "execution_count": 4,
     "metadata": {},
     "output_type": "execute_result"
    }
   ],
   "source": [
    "(df.isnull().sum()*100)/df.shape[0]"
   ]
  },
  {
   "cell_type": "markdown",
   "id": "00b5032f-6485-4896-9f83-79e5cfa0b670",
   "metadata": {},
   "source": [
    "Here we can see the percentage of null values present in the each columns. So lets analysis each null value containing column for a better understanding of data"
   ]
  },
  {
   "cell_type": "code",
   "execution_count": 5,
   "id": "09beb610-02b6-466b-9fe0-53e08834d9c2",
   "metadata": {},
   "outputs": [
    {
     "data": {
      "text/plain": [
       "_id\n",
       "656922f2919324acb6e87139    1\n",
       "6587a471883c1bbae7c39705    1\n",
       "6587a73f883c1bbae7c514b2    1\n",
       "6587a6a4883c1bbae7c50dae    1\n",
       "6587a576883c1bbae7c3d981    1\n",
       "                           ..\n",
       "657af3f37e0552cf5f48c8f7    1\n",
       "657af3f27e0552cf5f48c8e2    1\n",
       "657af3de7e0552cf5f48c349    1\n",
       "657af3dd7e0552cf5f48c2d7    1\n",
       "6595f407883c1bbae79c6e11    1\n",
       "Name: count, Length: 28027, dtype: int64"
      ]
     },
     "execution_count": 5,
     "metadata": {},
     "output_type": "execute_result"
    }
   ],
   "source": [
    "df._id.value_counts()"
   ]
  },
  {
   "cell_type": "code",
   "execution_count": 6,
   "id": "b77ad28f-a2f1-484f-8ccd-eff503e2bd07",
   "metadata": {},
   "outputs": [
    {
     "data": {
      "text/plain": [
       "user\n",
       "65754624858de4867b4ce684    158\n",
       "656a781164aaf999f4d184e0    140\n",
       "65633d344232eb704d9280bc    124\n",
       "6578151e858de4867ba00f2d    115\n",
       "6563fa5a4232eb704da70b20     96\n",
       "                           ... \n",
       "65745718858de4867b3fdb99      1\n",
       "6585cc817811937f68544ad1      1\n",
       "6585caea7811937f68542f07      1\n",
       "6585c9a87811937f68540a58      1\n",
       "65893560883c1bbae7fe8940      1\n",
       "Name: count, Length: 10344, dtype: int64"
      ]
     },
     "execution_count": 6,
     "metadata": {},
     "output_type": "execute_result"
    }
   ],
   "source": [
    "df.user.value_counts()"
   ]
  },
  {
   "cell_type": "code",
   "execution_count": 7,
   "id": "d0bcee1a-677a-4cdd-8053-8402b63fe9dc",
   "metadata": {},
   "outputs": [
    {
     "data": {
      "text/plain": [
       "(chatStatus\n",
       " failed        7256\n",
       " incomplete    6641\n",
       " completed     5535\n",
       " pending         48\n",
       " started         35\n",
       " Name: count, dtype: int64,\n",
       " 8512)"
      ]
     },
     "execution_count": 7,
     "metadata": {},
     "output_type": "execute_result"
    }
   ],
   "source": [
    "df.chatStatus.value_counts(), df.chatStatus.isnull().sum()"
   ]
  },
  {
   "cell_type": "markdown",
   "id": "00b72f72-e007-459d-9d84-d0ecd3028d05",
   "metadata": {},
   "source": [
    "It is a categorical column with a count of 5 categories and 8512 rows contain null"
   ]
  },
  {
   "cell_type": "code",
   "execution_count": 8,
   "id": "a04b4cb7-b744-4c63-a0fd-ee86554081c0",
   "metadata": {},
   "outputs": [
    {
     "data": {
      "text/plain": [
       "chatStatus\n",
       "failed        7255\n",
       "incomplete    6641\n",
       "completed     5535\n",
       "pending         48\n",
       "started         35\n",
       "Name: count, dtype: int64"
      ]
     },
     "execution_count": 8,
     "metadata": {},
     "output_type": "execute_result"
    }
   ],
   "source": [
    "df[df.consultationType=='Chat'].chatStatus.value_counts()"
   ]
  },
  {
   "cell_type": "markdown",
   "id": "a68561af-1638-4d5f-8f4e-8d88fbacefa5",
   "metadata": {},
   "source": [
    "So when the consultation type is only chat then only chat status has values means not null which makes sense. "
   ]
  },
  {
   "cell_type": "code",
   "execution_count": 9,
   "id": "4597285f-012d-4f66-9750-315c4ffa78cd",
   "metadata": {},
   "outputs": [
    {
     "data": {
      "text/plain": [
       "consultationType\n",
       "Chat                19514\n",
       "Call                 8508\n",
       "public_live_Call        3\n",
       "Complementary           2\n",
       "Name: count, dtype: int64"
      ]
     },
     "execution_count": 9,
     "metadata": {},
     "output_type": "execute_result"
    }
   ],
   "source": [
    "df.consultationType.value_counts()"
   ]
  },
  {
   "cell_type": "markdown",
   "id": "84b5ba18-4b36-4416-ab01-4932b7a969b7",
   "metadata": {},
   "source": [
    "So all the null values in chatStatus are actually calls, hence they are not recorded or kept null"
   ]
  },
  {
   "cell_type": "code",
   "execution_count": 10,
   "id": "09383934-8594-40f8-a87f-ae47de809875",
   "metadata": {},
   "outputs": [],
   "source": [
    "df.loc[df.consultationType!='Chat', 'chatStatus']=np.nan"
   ]
  },
  {
   "cell_type": "code",
   "execution_count": 11,
   "id": "a800e6a0-1d40-4c1b-8754-eaa328fe003a",
   "metadata": {},
   "outputs": [
    {
     "data": {
      "image/png": "[encoded data removed]",
      "text/plain": [
       "<Figure size 640x480 with 1 Axes>"
      ]
     },
     "metadata": {},
     "output_type": "display_data"
    }
   ],
   "source": [
    "plt.pie(df.chatStatus.value_counts(), labels=df.chatStatus.value_counts().index, autopct='%.0f%%');"
   ]
  },
  {
   "cell_type": "code",
   "execution_count": 12,
   "id": "6e235ed9-ed12-4bc6-901a-e6f71b97e286",
   "metadata": {},
   "outputs": [
    {
     "data": {
      "text/plain": [
       "guru\n",
       "656a717564aaf999f4d1715d    1580\n",
       "65285e3b2c4f29e6d54f2d4f    1450\n",
       "656a531d64aaf999f4d0e977    1394\n",
       "65489f0807bc1e26099117f8    1321\n",
       "6527184c353fbcc9d2e70afe    1070\n",
       "                            ... \n",
       "65054783f5f203225bfcdc88       2\n",
       "65054786f5f203225bfcdd13       2\n",
       "65081e33bd7b435cdbe118ea       2\n",
       "65054785f5f203225bfcdce3       1\n",
       "655c4b1bebf509ae45dbd57b       1\n",
       "Name: count, Length: 133, dtype: int64"
      ]
     },
     "execution_count": 12,
     "metadata": {},
     "output_type": "execute_result"
    }
   ],
   "source": [
    "df.guru.value_counts()"
   ]
  },
  {
   "cell_type": "markdown",
   "id": "736f90ab-a438-41e2-9553-b525be5579e8",
   "metadata": {},
   "source": [
    "So guru column consist of 133 unique values. And data looks like a AlphaNumeric so it might be an ID."
   ]
  },
  {
   "cell_type": "code",
   "execution_count": 13,
   "id": "d29c348b-198f-47f5-b978-77a97837013f",
   "metadata": {},
   "outputs": [
    {
     "data": {
      "text/plain": [
       "guruName\n",
       "Astro Krishaa           1580\n",
       "Astro  Sakthi           1450\n",
       "Astro Shalini           1321\n",
       "Astro  Brejesh          1070\n",
       "Astro Divya             1056\n",
       "                        ... \n",
       "Astro  Niddhi Guptaa       2\n",
       "Tarot  Anshu               2\n",
       "Tarot  Mystical            2\n",
       " Dr.  Pratibha             2\n",
       "Tarot Rittika              1\n",
       "Name: count, Length: 151, dtype: int64"
      ]
     },
     "execution_count": 13,
     "metadata": {},
     "output_type": "execute_result"
    }
   ],
   "source": [
    "df.guruName.value_counts()"
   ]
  },
  {
   "cell_type": "markdown",
   "id": "4086c61f-d105-43f8-97bc-db5094f0154e",
   "metadata": {},
   "source": [
    "guruName consists 151 unique values which doesn't match with guru column unique sets. Simple conclusion is Multiple guru (ids) is being given to multiple guruName"
   ]
  },
  {
   "cell_type": "code",
   "execution_count": 14,
   "id": "2c32b844-55fb-4bf3-b8ae-2ee8a4fc7374",
   "metadata": {},
   "outputs": [
    {
     "data": {
      "image/png": "[encoded data removed]",
      "text/plain": [
       "<Figure size 640x480 with 1 Axes>"
      ]
     },
     "metadata": {},
     "output_type": "display_data"
    }
   ],
   "source": [
    "df.guruName.value_counts().head(10).plot(kind='bar')\n",
    "plt.title('Top 10 Gurus as per count');"
   ]
  },
  {
   "cell_type": "code",
   "execution_count": 15,
   "id": "655d7b1a-a344-47a8-92db-98289e98f0d2",
   "metadata": {},
   "outputs": [
    {
     "data": {
      "image/png": "[encoded data removed]",
      "text/plain": [
       "<Figure size 640x480 with 1 Axes>"
      ]
     },
     "metadata": {},
     "output_type": "display_data"
    }
   ],
   "source": [
    "df.guruName.value_counts().tail(10).plot(kind='bar')\n",
    "plt.title('Bottom 10 Gurus as per count');"
   ]
  },
  {
   "cell_type": "code",
   "execution_count": 16,
   "id": "ef9c1b2d-af67-4d8e-89a6-a99fa77d2a44",
   "metadata": {},
   "outputs": [
    {
     "data": {
      "text/plain": [
       "gid\n",
       "287    1580\n",
       "239    1450\n",
       "281    1394\n",
       "256    1321\n",
       "235    1070\n",
       "       ... \n",
       "76        2\n",
       "276       2\n",
       "97        2\n",
       "78        2\n",
       "80        1\n",
       "Name: count, Length: 131, dtype: int64"
      ]
     },
     "execution_count": 16,
     "metadata": {},
     "output_type": "execute_result"
    }
   ],
   "source": [
    "df.gid.value_counts()"
   ]
  },
  {
   "cell_type": "markdown",
   "id": "c54be957-60f8-4ea5-81c5-b433dc6589ee",
   "metadata": {},
   "source": [
    "gid has same number of unique values as of guru"
   ]
  },
  {
   "cell_type": "code",
   "execution_count": 17,
   "id": "683bec26-53fd-40a1-a889-7e7645f34c28",
   "metadata": {},
   "outputs": [
    {
     "data": {
      "text/plain": [
       "uid\n",
       "33017    158\n",
       "30542    140\n",
       "28098    124\n",
       "33832    115\n",
       "28285     96\n",
       "        ... \n",
       "32804      1\n",
       "38836      1\n",
       "38831      1\n",
       "38830      1\n",
       "39980      1\n",
       "Name: count, Length: 10344, dtype: int64"
      ]
     },
     "execution_count": 17,
     "metadata": {},
     "output_type": "execute_result"
    }
   ],
   "source": [
    "df.uid.value_counts()"
   ]
  },
  {
   "cell_type": "markdown",
   "id": "fa729e8c-ce04-4bb0-ab43-141db611b256",
   "metadata": {},
   "source": [
    "Most probably this is user id"
   ]
  },
  {
   "cell_type": "code",
   "execution_count": 18,
   "id": "275e012d-9a53-4fe5-8615-92f4876c8bf9",
   "metadata": {},
   "outputs": [
    {
     "data": {
      "text/plain": [
       "consultationType\n",
       "Chat                19514\n",
       "Call                 8508\n",
       "public_live_Call        3\n",
       "Complementary           2\n",
       "Name: count, dtype: int64"
      ]
     },
     "execution_count": 18,
     "metadata": {},
     "output_type": "execute_result"
    }
   ],
   "source": [
    "df.consultationType.value_counts()"
   ]
  },
  {
   "cell_type": "code",
   "execution_count": 19,
   "id": "267d07ef-5fb9-4d0d-b99c-feb9a40e47b3",
   "metadata": {},
   "outputs": [
    {
     "data": {
      "image/png": "[encoded data removed]",
      "text/plain": [
       "<Figure size 640x480 with 1 Axes>"
      ]
     },
     "metadata": {},
     "output_type": "display_data"
    }
   ],
   "source": [
    "plt.pie(df.consultationType.value_counts(), labels=df.consultationType.value_counts().index, autopct='%.0f%%');"
   ]
  },
  {
   "cell_type": "markdown",
   "id": "abc8ba9d-f307-479b-909c-c21d88ec9a20",
   "metadata": {},
   "source": [
    "4 categories in consultationType column. Not sure about the difference between Call and public_live_Call. Same goes for Complementary whether this happen on call or by chat"
   ]
  },
  {
   "cell_type": "code",
   "execution_count": 20,
   "id": "050a3a89-641e-456b-9769-37e9cf772a28",
   "metadata": {},
   "outputs": [
    {
     "data": {
      "text/plain": [
       "website\n",
       "gurucool     20225\n",
       "app           7800\n",
       "dashboard        2\n",
       "Name: count, dtype: int64"
      ]
     },
     "execution_count": 20,
     "metadata": {},
     "output_type": "execute_result"
    }
   ],
   "source": [
    "df.website.value_counts()"
   ]
  },
  {
   "cell_type": "markdown",
   "id": "cf478e5f-9a66-42c0-9ee3-1c75e91b18cc",
   "metadata": {},
   "source": [
    "3 categories inside the website columns."
   ]
  },
  {
   "cell_type": "code",
   "execution_count": 21,
   "id": "a97c472c-11cf-4825-9425-344c14b2d651",
   "metadata": {},
   "outputs": [
    {
     "data": {
      "image/png": "[encoded data removed]",
      "text/plain": [
       "<Figure size 640x480 with 1 Axes>"
      ]
     },
     "metadata": {},
     "output_type": "display_data"
    }
   ],
   "source": [
    "plt.pie(df.website.value_counts(), labels=df.website.value_counts().index, autopct='%.0f%%');"
   ]
  },
  {
   "cell_type": "code",
   "execution_count": 22,
   "id": "597659a4-77db-4513-985b-d676f6affd48",
   "metadata": {},
   "outputs": [
    {
     "data": {
      "text/plain": [
       "refundStatus\n",
       "no-refund     28022\n",
       "Approved          3\n",
       "Rejected          1\n",
       "Processing        1\n",
       "Name: count, dtype: int64"
      ]
     },
     "execution_count": 22,
     "metadata": {},
     "output_type": "execute_result"
    }
   ],
   "source": [
    "df.refundStatus.value_counts()"
   ]
  },
  {
   "cell_type": "markdown",
   "id": "b9609e62-9899-49cd-add7-a7c9cdf7b6b9",
   "metadata": {},
   "source": [
    "Almost every rows is under non-refund category"
   ]
  },
  {
   "cell_type": "code",
   "execution_count": 23,
   "id": "ad9956c5-703c-4bfc-b0b8-6381b5b7f6e6",
   "metadata": {},
   "outputs": [
    {
     "data": {
      "text/plain": [
       "isWhiteListUser\n",
       "False    28027\n",
       "Name: count, dtype: int64"
      ]
     },
     "execution_count": 23,
     "metadata": {},
     "output_type": "execute_result"
    }
   ],
   "source": [
    "df.isWhiteListUser.value_counts()"
   ]
  },
  {
   "cell_type": "markdown",
   "id": "0e78af29-c7f2-498b-b2c9-bb27632c36f3",
   "metadata": {},
   "source": [
    "Column is states regarding users being blocked or not and none of them are blocked. We can delete this column as in this dataset it will not help in analysis"
   ]
  },
  {
   "cell_type": "code",
   "execution_count": 24,
   "id": "e0114734-0b44-4e7d-975c-dac0fa27358f",
   "metadata": {},
   "outputs": [
    {
     "data": {
      "text/plain": [
       "(chatSeconds\n",
       " 300.0     17684\n",
       " 480.0       250\n",
       " 660.0       245\n",
       " 360.0       241\n",
       " 540.0       193\n",
       " 420.0       160\n",
       " 720.0       148\n",
       " 600.0       143\n",
       " 780.0        49\n",
       " 1080.0       42\n",
       " 840.0        37\n",
       " 960.0        32\n",
       " 900.0        26\n",
       " 1200.0       24\n",
       " 1320.0       22\n",
       " 1020.0       22\n",
       " 1500.0       21\n",
       " 1140.0       18\n",
       " 1380.0       12\n",
       " 2400.0       11\n",
       " 1920.0       11\n",
       " 7980.0       10\n",
       " 1260.0        9\n",
       " 1560.0        9\n",
       " 3300.0        8\n",
       " 2580.0        7\n",
       " 3120.0        7\n",
       " 6660.0        7\n",
       " 2700.0        7\n",
       " 1680.0        6\n",
       " 1620.0        6\n",
       " 1860.0        5\n",
       " 2940.0        4\n",
       " 3900.0        3\n",
       " 2220.0        3\n",
       " 1440.0        3\n",
       " 7920.0        3\n",
       " 4080.0        2\n",
       " 1740.0        2\n",
       " 3660.0        2\n",
       " 1980.0        2\n",
       " 1800.0        2\n",
       " 3540.0        2\n",
       " 3840.0        2\n",
       " 2880.0        2\n",
       " 2460.0        2\n",
       " 7740.0        1\n",
       " 3180.0        1\n",
       " 7500.0        1\n",
       " 2280.0        1\n",
       " 4380.0        1\n",
       " 4500.0        1\n",
       " 2040.0        1\n",
       " 3000.0        1\n",
       " Name: count, dtype: int64,\n",
       " 8513)"
      ]
     },
     "execution_count": 24,
     "metadata": {},
     "output_type": "execute_result"
    }
   ],
   "source": [
    "df.chatSeconds.value_counts(), df.chatSeconds.isnull().sum()"
   ]
  },
  {
   "cell_type": "markdown",
   "id": "f1e99cf0-8035-4ecb-be46-7e9e99a023c2",
   "metadata": {},
   "source": [
    "It is a numerical column presented in secs. It has 8513 empty rows."
   ]
  },
  {
   "cell_type": "code",
   "execution_count": 25,
   "id": "62db1d80-14a7-4aea-b361-7b132bc2b85c",
   "metadata": {},
   "outputs": [
    {
     "data": {
      "text/plain": [
       "count    19514.000000\n",
       "mean       349.158553\n",
       "std        319.588213\n",
       "min        300.000000\n",
       "25%        300.000000\n",
       "50%        300.000000\n",
       "75%        300.000000\n",
       "max       7980.000000\n",
       "Name: chatSeconds, dtype: float64"
      ]
     },
     "execution_count": 25,
     "metadata": {},
     "output_type": "execute_result"
    }
   ],
   "source": [
    "df.chatSeconds.describe()"
   ]
  },
  {
   "cell_type": "markdown",
   "id": "7fcd120a-137b-4ac2-b8ec-4da55f4e1d90",
   "metadata": {},
   "source": [
    "This suggests that the majority of chat durations are around 300 seconds, with some variability and occasional longer chats, as indicated by the higher standard deviation and the maximum value."
   ]
  },
  {
   "cell_type": "code",
   "execution_count": 26,
   "id": "55f64bca-5257-4f41-b5a4-d23cb3fd30a2",
   "metadata": {},
   "outputs": [
    {
     "data": {
      "image/png": "[encoded data removed]",
      "text/plain": [
       "<Figure size 640x480 with 1 Axes>"
      ]
     },
     "metadata": {},
     "output_type": "display_data"
    }
   ],
   "source": [
    "sns.histplot(data=df, x='chatSeconds', kde=True);"
   ]
  },
  {
   "cell_type": "markdown",
   "id": "668c1a5f-2668-4264-985f-f73703a0085a",
   "metadata": {},
   "source": [
    "The majority of the data falls around the value of 300, as indicated by the median, 25th percentile, and 75th percentile, while the mean is slightly higher at approximately 349. Therefore, for this particular dataset, a reasonable approach could be to use median imputation."
   ]
  },
  {
   "cell_type": "code",
   "execution_count": 27,
   "id": "019b14c5-602c-4759-809e-68967b39f6ff",
   "metadata": {},
   "outputs": [],
   "source": [
    "df.chatSeconds.fillna(300, inplace=True)"
   ]
  },
  {
   "cell_type": "code",
   "execution_count": 28,
   "id": "4f9655a4-9fa9-4f62-b40e-a079e7e930f4",
   "metadata": {},
   "outputs": [
    {
     "data": {
      "text/plain": [
       "0"
      ]
     },
     "execution_count": 28,
     "metadata": {},
     "output_type": "execute_result"
    }
   ],
   "source": [
    "df.chatSeconds.isnull().sum()"
   ]
  },
  {
   "cell_type": "code",
   "execution_count": 29,
   "id": "707144a3-4abf-4af6-a7ff-a5a4ce1961d0",
   "metadata": {},
   "outputs": [
    {
     "data": {
      "text/plain": [
       "count    28027.000000\n",
       "mean       334.226995\n",
       "std        267.625359\n",
       "min        300.000000\n",
       "25%        300.000000\n",
       "50%        300.000000\n",
       "75%        300.000000\n",
       "max       7980.000000\n",
       "Name: chatSeconds, dtype: float64"
      ]
     },
     "execution_count": 29,
     "metadata": {},
     "output_type": "execute_result"
    }
   ],
   "source": [
    "df.chatSeconds.describe()"
   ]
  },
  {
   "cell_type": "code",
   "execution_count": 30,
   "id": "47e2f91d-9082-4e06-9838-e3e66acbc9a7",
   "metadata": {},
   "outputs": [
    {
     "data": {
      "text/plain": [
       "queue\n",
       "False    28027\n",
       "Name: count, dtype: int64"
      ]
     },
     "execution_count": 30,
     "metadata": {},
     "output_type": "execute_result"
    }
   ],
   "source": [
    "df.queue.value_counts()"
   ]
  },
  {
   "cell_type": "markdown",
   "id": "7a5522d4-b26c-4bb8-873e-580b3730ccac",
   "metadata": {},
   "source": [
    "None of the values were waiting in queue. We can delete this column as it is not neccessary for analysis"
   ]
  },
  {
   "cell_type": "code",
   "execution_count": 31,
   "id": "ef3a48d3-d718-4d72-a773-d20f8d7d84ec",
   "metadata": {},
   "outputs": [
    {
     "data": {
      "text/plain": [
       "freeCall\n",
       "False    24991\n",
       "True      3036\n",
       "Name: count, dtype: int64"
      ]
     },
     "execution_count": 31,
     "metadata": {},
     "output_type": "execute_result"
    }
   ],
   "source": [
    "df.freeCall.value_counts()"
   ]
  },
  {
   "cell_type": "markdown",
   "id": "e3f1a4c8-b3ad-4620-b490-2f850465cf24",
   "metadata": {},
   "source": [
    "But it look like there all the consultation which are chat are also underconsideration of false hence that big value "
   ]
  },
  {
   "cell_type": "code",
   "execution_count": 32,
   "id": "df480023-8e69-442d-885e-6e19a18d65ed",
   "metadata": {},
   "outputs": [
    {
     "data": {
      "text/plain": [
       "freeCall\n",
       "False    5472\n",
       "True     3036\n",
       "Name: count, dtype: int64"
      ]
     },
     "execution_count": 32,
     "metadata": {},
     "output_type": "execute_result"
    }
   ],
   "source": [
    "df[df.consultationType=='Call'].freeCall.value_counts()"
   ]
  },
  {
   "cell_type": "code",
   "execution_count": 33,
   "id": "1364280c-c142-42e1-9753-12ffe4fb9bf3",
   "metadata": {},
   "outputs": [
    {
     "data": {
      "image/png": "[encoded data removed]",
      "text/plain": [
       "<Figure size 640x480 with 1 Axes>"
      ]
     },
     "metadata": {},
     "output_type": "display_data"
    }
   ],
   "source": [
    "plt.pie(df[df.consultationType=='Call'].freeCall.value_counts(), labels=df[df.consultationType=='Call'].freeCall.value_counts().index, autopct='%.0f%%')\n",
    "plt.title('Free Call');"
   ]
  },
  {
   "cell_type": "markdown",
   "id": "94707377-8f94-4842-af9b-85900ccc2252",
   "metadata": {},
   "source": [
    "This is a categorical column which tells whether the the call was free or not. Also from consulationType column we know that 8508 are calls so we can make the conclusion that out of these how many were free"
   ]
  },
  {
   "cell_type": "code",
   "execution_count": 34,
   "id": "dd9206b7-2ed2-434d-bb58-827b63a59d57",
   "metadata": {},
   "outputs": [
    {
     "data": {
      "text/plain": [
       "freeChat\n",
       "False    24580\n",
       "True      3447\n",
       "Name: count, dtype: int64"
      ]
     },
     "execution_count": 34,
     "metadata": {},
     "output_type": "execute_result"
    }
   ],
   "source": [
    "df.freeChat.value_counts()"
   ]
  },
  {
   "cell_type": "code",
   "execution_count": 35,
   "id": "ada5165f-3ed5-42e0-89eb-86dffcb29ceb",
   "metadata": {},
   "outputs": [
    {
     "data": {
      "text/plain": [
       "freeChat\n",
       "False    16067\n",
       "True      3447\n",
       "Name: count, dtype: int64"
      ]
     },
     "execution_count": 35,
     "metadata": {},
     "output_type": "execute_result"
    }
   ],
   "source": [
    "df[df.consultationType=='Chat'].freeChat.value_counts()"
   ]
  },
  {
   "cell_type": "code",
   "execution_count": 36,
   "id": "d4c0488f-67c4-4f6c-9917-a80ab8d701f7",
   "metadata": {},
   "outputs": [
    {
     "data": {
      "image/png": "[encoded data removed]",
      "text/plain": [
       "<Figure size 640x480 with 1 Axes>"
      ]
     },
     "metadata": {},
     "output_type": "display_data"
    }
   ],
   "source": [
    "plt.pie(df[df.consultationType=='Chat'].freeChat.value_counts(), labels=df[df.consultationType=='Chat'].freeChat.value_counts().index, autopct='%.0f%%')\n",
    "plt.title('Free Chat');"
   ]
  },
  {
   "cell_type": "markdown",
   "id": "5fa1057b-7abd-44f4-ac7b-551008243b04",
   "metadata": {},
   "source": [
    "This is a categorical column which tells whether the the chat was free or not. Also from consulationType column we know that 19514 are chats so we can make the conclusion that out of these how many were free"
   ]
  },
  {
   "cell_type": "code",
   "execution_count": 37,
   "id": "47a2fad3-4a19-46aa-8434-85d1415f386b",
   "metadata": {},
   "outputs": [
    {
     "data": {
      "text/plain": [
       "createdAt\n",
       "2023-12-01T00:04:02.993Z    1\n",
       "2023-12-24T03:24:33.927Z    1\n",
       "2023-12-24T03:36:31.142Z    1\n",
       "2023-12-24T03:33:56.653Z    1\n",
       "2023-12-24T03:28:54.146Z    1\n",
       "                           ..\n",
       "2023-12-14T12:24:19.267Z    1\n",
       "2023-12-14T12:24:18.232Z    1\n",
       "2023-12-14T12:23:58.899Z    1\n",
       "2023-12-14T12:23:57.054Z    1\n",
       "2024-01-03T23:55:51.547Z    1\n",
       "Name: count, Length: 28027, dtype: int64"
      ]
     },
     "execution_count": 37,
     "metadata": {},
     "output_type": "execute_result"
    }
   ],
   "source": [
    "df.createdAt.value_counts()"
   ]
  },
  {
   "cell_type": "code",
   "execution_count": 38,
   "id": "a76ea36b-a96d-4eac-ad41-0075e3431d8f",
   "metadata": {},
   "outputs": [
    {
     "data": {
      "text/plain": [
       "str"
      ]
     },
     "execution_count": 38,
     "metadata": {},
     "output_type": "execute_result"
    }
   ],
   "source": [
    "type(df.createdAt[0])"
   ]
  },
  {
   "cell_type": "markdown",
   "id": "0f9339b6-aff0-40b5-b015-fe389d9ab312",
   "metadata": {},
   "source": [
    "This column represents date which in UTC timezone but has been put into str dtype. Need to convert it so that python and read it accordingly"
   ]
  },
  {
   "cell_type": "code",
   "execution_count": 39,
   "id": "788d5bbd-feb0-4180-aeab-ab762076ef0b",
   "metadata": {},
   "outputs": [
    {
     "data": {
      "text/plain": [
       "0       2023-12-01 00:04:02.993000+00:00\n",
       "1       2023-12-01 00:08:51.903000+00:00\n",
       "2       2023-12-01 00:17:22.270000+00:00\n",
       "3       2023-12-01 00:24:41.672000+00:00\n",
       "4       2023-12-01 00:48:53.744000+00:00\n",
       "                      ...               \n",
       "28022   2024-01-03 23:36:02.872000+00:00\n",
       "28023   2024-01-03 23:46:59.765000+00:00\n",
       "28024   2024-01-03 23:48:13.271000+00:00\n",
       "28025   2024-01-03 23:53:40.997000+00:00\n",
       "28026   2024-01-03 23:55:51.547000+00:00\n",
       "Name: createdAt, Length: 28027, dtype: datetime64[ns, UTC]"
      ]
     },
     "execution_count": 39,
     "metadata": {},
     "output_type": "execute_result"
    }
   ],
   "source": [
    "df.createdAt=pd.to_datetime(df['createdAt'])\n",
    "df.createdAt"
   ]
  },
  {
   "cell_type": "code",
   "execution_count": 40,
   "id": "f40828e4-45ab-44c8-b94d-7c493837d094",
   "metadata": {},
   "outputs": [
    {
     "data": {
      "text/plain": [
       "Timestamp('2023-12-01 00:04:02.993000+0000', tz='UTC')"
      ]
     },
     "execution_count": 40,
     "metadata": {},
     "output_type": "execute_result"
    }
   ],
   "source": [
    "df.createdAt.min()"
   ]
  },
  {
   "cell_type": "code",
   "execution_count": 41,
   "id": "3867265a-7c94-4d82-835c-ec5a59cee56c",
   "metadata": {},
   "outputs": [
    {
     "data": {
      "text/plain": [
       "Timestamp('2024-01-03 23:55:51.547000+0000', tz='UTC')"
      ]
     },
     "execution_count": 41,
     "metadata": {},
     "output_type": "execute_result"
    }
   ],
   "source": [
    "df.createdAt.max()"
   ]
  },
  {
   "cell_type": "code",
   "execution_count": 42,
   "id": "46463ea7-f8c4-4418-a083-e05965dc8d83",
   "metadata": {},
   "outputs": [
    {
     "data": {
      "image/png": "[encoded data removed]",
      "text/plain": [
       "<Figure size 640x480 with 1 Axes>"
      ]
     },
     "metadata": {},
     "output_type": "display_data"
    }
   ],
   "source": [
    "sns.lineplot(df.createdAt);"
   ]
  },
  {
   "cell_type": "markdown",
   "id": "55a9a2b0-a4c6-43aa-9e04-8d9365eb568a",
   "metadata": {},
   "source": [
    "- The count starts relatively high on December 1 and maintains high levels until around December 5.\n",
    "- There is a noticeable dip in activity around December 6 to December 10. This suggests a temporary reduction in the events being tracked.\n",
    "- Activity picks up again after the dip, reaching a peak around December 17. This period shows the highest spike in counts, suggesting a surge in activity.\n",
    "- After the mid-December peak, the counts remain relatively high but show some variability. There are notable peaks around December 22 and December 25, with slight decreases in between.\n",
    "- After December 25, the counts start to decline gradually, with a significant drop observed at the beginning of January. The lowest counts are seen around January 3 to January 5.<br><br>\n",
    "\n",
    "**Possible Influences:** The observed patterns could be influenced by specific events, holidays, or other time-sensitive factors. For instance, the high activity around mid-December could be related to holiday preparations, while the decline in early January might reflect post-holiday periods.<br>\n",
    "**Weekly Trends:** There might be a weekly pattern influencing the counts, such as higher activity during weekdays and lower activity on weekends, though more detailed data would be needed to confirm this."
   ]
  },
  {
   "cell_type": "code",
   "execution_count": 43,
   "id": "0c50dafa-18b8-4da0-a9ba-9d12cf553343",
   "metadata": {},
   "outputs": [
    {
     "data": {
      "image/png": "[encoded data removed]",
      "text/plain": [
       "<Figure size 1000x700 with 1 Axes>"
      ]
     },
     "metadata": {},
     "output_type": "display_data"
    }
   ],
   "source": [
    "plt.figure(figsize=(10,7))\n",
    "sns.histplot(df.createdAt, kde=True)\n",
    "plt.xticks(rotation=90);"
   ]
  },
  {
   "cell_type": "markdown",
   "id": "f9638273-04b1-4645-997b-1744d00f46c7",
   "metadata": {},
   "source": [
    "- The histogram shows significant day-to-day variability in the counts, indicating fluctuations in the activity being tracked.\n",
    "- The counts are high at the start on December 1, indicating a strong beginning. This high activity continues until around December 5.\n",
    "- There is a noticeable decrease in activity from December 6 to December 10, reflected by lower bars in the histogram. This suggests a temporary reduction in the frequency of the events being tracked.\n",
    "- Activity increases again after the dip, peaking around December 17. This period shows the highest spike in counts, indicating a significant surge in activity.\n",
    "- After the mid-December peak, the counts remain high but show some variability, with notable peaks around December 22 and December 25. There are slight decreases between these peaks. <br><br>\n",
    "\n",
    "The histogram with the KDE overlay provides a detailed view of the data distribution, revealing dynamic activity patterns with several peaks and troughs over the observed period, likely influenced by temporal factors and specific events during the holiday season.\n"
   ]
  },
  {
   "cell_type": "code",
   "execution_count": 44,
   "id": "65fd36bd-3393-4684-9583-69d1f6f3529c",
   "metadata": {},
   "outputs": [
    {
     "data": {
      "text/plain": [
       "updatedAt\n",
       "2023-12-23T12:17:43.586Z    28\n",
       "2023-12-01T00:07:33.833Z     1\n",
       "2023-12-24T03:35:57.954Z     1\n",
       "2023-12-24T03:48:01.647Z     1\n",
       "2023-12-24T03:56:34.074Z     1\n",
       "                            ..\n",
       "2023-12-14T12:27:18.971Z     1\n",
       "2023-12-14T12:27:11.634Z     1\n",
       "2023-12-14T12:26:40.293Z     1\n",
       "2023-12-14T12:26:24.642Z     1\n",
       "2024-01-03T23:57:12.479Z     1\n",
       "Name: count, Length: 28000, dtype: int64"
      ]
     },
     "execution_count": 44,
     "metadata": {},
     "output_type": "execute_result"
    }
   ],
   "source": [
    "df.updatedAt.value_counts()"
   ]
  },
  {
   "cell_type": "code",
   "execution_count": 45,
   "id": "18d80ec9-f5b9-49de-a4e2-68bcb70b0e69",
   "metadata": {},
   "outputs": [
    {
     "data": {
      "text/plain": [
       "str"
      ]
     },
     "execution_count": 45,
     "metadata": {},
     "output_type": "execute_result"
    }
   ],
   "source": [
    "type(df.updatedAt[0])"
   ]
  },
  {
   "cell_type": "code",
   "execution_count": 46,
   "id": "5c1fb21d-b3b6-4603-8088-6768514d9002",
   "metadata": {},
   "outputs": [
    {
     "data": {
      "text/plain": [
       "0       2023-12-01 00:07:33.833000+00:00\n",
       "1       2023-12-01 00:09:56.111000+00:00\n",
       "2       2023-12-01 00:22:04.382000+00:00\n",
       "3       2023-12-01 00:29:44.022000+00:00\n",
       "4       2023-12-01 00:50:33.153000+00:00\n",
       "                      ...               \n",
       "28022   2024-01-03 23:37:57.348000+00:00\n",
       "28023   2024-01-03 23:47:50.319000+00:00\n",
       "28024   2024-01-03 23:48:37.907000+00:00\n",
       "28025   2024-01-03 23:54:16.451000+00:00\n",
       "28026   2024-01-03 23:57:12.479000+00:00\n",
       "Name: updatedAt, Length: 28027, dtype: datetime64[ns, UTC]"
      ]
     },
     "execution_count": 46,
     "metadata": {},
     "output_type": "execute_result"
    }
   ],
   "source": [
    "df.updatedAt=pd.to_datetime(df['updatedAt'])\n",
    "df.updatedAt"
   ]
  },
  {
   "cell_type": "markdown",
   "id": "b213f568-6881-429c-9172-972a56e74f2b",
   "metadata": {},
   "source": [
    "Similar steps has been followed here as of createdAt"
   ]
  },
  {
   "cell_type": "code",
   "execution_count": 47,
   "id": "31bd43b0-4c37-473e-bb40-653318eba02d",
   "metadata": {},
   "outputs": [
    {
     "data": {
      "text/plain": [
       "(Timestamp('2023-12-01 00:07:33.833000+0000', tz='UTC'),\n",
       " Timestamp('2024-01-03 23:57:12.479000+0000', tz='UTC'))"
      ]
     },
     "execution_count": 47,
     "metadata": {},
     "output_type": "execute_result"
    }
   ],
   "source": [
    "df.updatedAt.min(), df.updatedAt.max()"
   ]
  },
  {
   "cell_type": "markdown",
   "id": "d3cb08ed-1738-4f72-a46d-f1b0a27c5879",
   "metadata": {},
   "source": [
    "So from both of the columns we know that the timespan of the given dataset is from Dec, 1st 2023 to Jan, 3rd 2024"
   ]
  },
  {
   "cell_type": "code",
   "execution_count": 48,
   "id": "8f465ad0-7528-458b-a662-588a8f871d7a",
   "metadata": {},
   "outputs": [
    {
     "data": {
      "image/png": "[encoded data removed]",
      "text/plain": [
       "<Figure size 1000x700 with 1 Axes>"
      ]
     },
     "metadata": {},
     "output_type": "display_data"
    }
   ],
   "source": [
    "plt.figure(figsize=(10,7))\n",
    "sns.histplot(df.updatedAt, kde=True)\n",
    "plt.xticks(rotation=90);"
   ]
  },
  {
   "cell_type": "markdown",
   "id": "15994eec-82c9-4993-b3f9-b37a471eb411",
   "metadata": {},
   "source": [
    "Same as createdAt column"
   ]
  },
  {
   "cell_type": "code",
   "execution_count": 49,
   "id": "f83ca002-550a-49f1-bfec-90d7d6c3580e",
   "metadata": {},
   "outputs": [
    {
     "data": {
      "text/plain": [
       "0       0.553645\n",
       "5       0.144289\n",
       "1       0.084026\n",
       "3       0.076034\n",
       "2       0.030435\n",
       "          ...   \n",
       "1249    0.000036\n",
       "904     0.000036\n",
       "562     0.000036\n",
       "80      0.000036\n",
       "74      0.000036\n",
       "Name: count, Length: 313, dtype: float64"
      ]
     },
     "execution_count": 49,
     "metadata": {},
     "output_type": "execute_result"
    }
   ],
   "source": [
    "(((df['updatedAt']-df['createdAt']).dt.seconds)//60).value_counts()/df.shape[0]"
   ]
  },
  {
   "cell_type": "code",
   "execution_count": 50,
   "id": "c99b7b79-09ed-425e-8e8c-e21d12da27bd",
   "metadata": {},
   "outputs": [
    {
     "data": {
      "image/png": "[encoded data removed]",
      "text/plain": [
       "<Figure size 1000x1000 with 1 Axes>"
      ]
     },
     "metadata": {},
     "output_type": "display_data"
    }
   ],
   "source": [
    "plt.figure(figsize=(10,10))\n",
    "(((df['updatedAt']-df['createdAt']).dt.seconds)//60).plot(kind='kde');"
   ]
  },
  {
   "cell_type": "code",
   "execution_count": 51,
   "id": "d7a08831-98f4-4b5b-8b41-821908756ed6",
   "metadata": {},
   "outputs": [
    {
     "data": {
      "text/plain": [
       "(1434, 0)"
      ]
     },
     "execution_count": 51,
     "metadata": {},
     "output_type": "execute_result"
    }
   ],
   "source": [
    "(((df['updatedAt']-df['createdAt']).dt.seconds)//60).max(), (((df['updatedAt']-df['createdAt']).dt.seconds)//60).min()"
   ]
  },
  {
   "cell_type": "code",
   "execution_count": 52,
   "id": "cbaf6225-e81a-49ee-9ceb-2cc7727a6583",
   "metadata": {},
   "outputs": [
    {
     "data": {
      "image/png": "[encoded data removed]",
      "text/plain": [
       "<Figure size 640x480 with 1 Axes>"
      ]
     },
     "metadata": {},
     "output_type": "display_data"
    }
   ],
   "source": [
    "sns.boxplot(((df['updatedAt']-df['createdAt']).dt.seconds)//60);"
   ]
  },
  {
   "cell_type": "markdown",
   "id": "ed566076-0371-43ce-bf3b-35df47e420b9",
   "metadata": {},
   "source": [
    "Difference between Created at and Updated at varies from 0 mins to 1434 mins (approx 1 day). Approx 80% of data are getting updated within 5 mins since creation but there are values which are at extreme ends like taking 1 day as max. <br>\n",
    "Reasons for such extreme: <br>\n",
    "- Simple issues are often resolved quickly, while complex issues that require investigation, consultation with other departments, or additional research might take significantly longer. If the issue involves technical problems that require troubleshooting, this can extend the resolution time.\n",
    "- Many customer service operations use a tiered support system where more complex issues are escalated to higher levels of support, which naturally takes more time. Certain types of resolutions might require approval from higher management or specialized departments, adding to the delay.\n",
    "- During peak times or if the team is understaffed, response and resolution times can be delayed. Some issues may require the attention of specific experts who may not be immediately available.\n",
    "- If the resolution requires additional information from the customer, delays can occur while waiting for the customer to respond.\n",
    "- Inefficiencies in the process or outdated systems can cause delays. Occasional system outages or maintenance windows can lead to increased resolution times.\n",
    "- Sometimes, data entry errors or incorrect time stamps can skew the apparent resolution times. Issues might be misclassified initially, requiring reassignment and causing delays.\n",
    "- Different types of issues might have different SLAs. For instance, critical issues might have a 24-hour resolution time, whereas minor issues have a 5-minute response time."
   ]
  },
  {
   "cell_type": "code",
   "execution_count": 53,
   "id": "6bfbc1b3-820f-4d9d-a6e0-7d4e663d1772",
   "metadata": {},
   "outputs": [
    {
     "data": {
      "text/plain": [
       "23.9"
      ]
     },
     "execution_count": 53,
     "metadata": {},
     "output_type": "execute_result"
    }
   ],
   "source": [
    "1434/60"
   ]
  },
  {
   "cell_type": "code",
   "execution_count": 54,
   "id": "7f593dcb-5b25-4eed-bcae-dff3821e00bd",
   "metadata": {},
   "outputs": [
    {
     "data": {
      "text/plain": [
       "__v\n",
       "0    28022\n",
       "1        5\n",
       "Name: count, dtype: int64"
      ]
     },
     "execution_count": 54,
     "metadata": {},
     "output_type": "execute_result"
    }
   ],
   "source": [
    "df.__v.value_counts()"
   ]
  },
  {
   "cell_type": "markdown",
   "id": "58b1aa4d-6dd7-4115-ad88-2e4c861c63a6",
   "metadata": {},
   "source": [
    "Not sure what this represents"
   ]
  },
  {
   "cell_type": "code",
   "execution_count": 55,
   "id": "b848ea62-8cec-4b2d-b58b-74e3cef778a1",
   "metadata": {},
   "outputs": [
    {
     "data": {
      "text/plain": [
       "(statementEntryId\n",
       " 656922f3919324acb6e8713b    1\n",
       " 6587be5c883c1bbae7c78c23    1\n",
       " 6587c44c883c1bbae7c83385    1\n",
       " 6587c395883c1bbae7c7efca    1\n",
       " 6587c38d883c1bbae7c7edd4    1\n",
       "                            ..\n",
       " 657b030942befbc88b06ae85    1\n",
       " 657b030742befbc88b06ae43    1\n",
       " 657b02fb42befbc88b06a79d    1\n",
       " 657b02e242befbc88b06a582    1\n",
       " 6595f407883c1bbae79c6e13    1\n",
       " Name: count, Length: 27876, dtype: int64,\n",
       " 151)"
      ]
     },
     "execution_count": 55,
     "metadata": {},
     "output_type": "execute_result"
    }
   ],
   "source": [
    "df.statementEntryId.value_counts(), df.statementEntryId.isnull().sum()"
   ]
  },
  {
   "cell_type": "markdown",
   "id": "b6bdfbfb-d42e-4e97-9870-a7623c516112",
   "metadata": {},
   "source": [
    "This column has Statement ID and 151 rows are empty. Not sure what this ID acually represents but as all of its value is unique we impute the null cells by randomizing it."
   ]
  },
  {
   "cell_type": "code",
   "execution_count": 56,
   "id": "e6fcec9a-f80b-41bd-9895-070e8a88ab8c",
   "metadata": {},
   "outputs": [
    {
     "data": {
      "text/plain": [
       "(chatStartTime\n",
       " 2023-12-01T00:07:33.248Z    1\n",
       " 2023-12-23T18:17:01.477Z    1\n",
       " 2023-12-23T19:29:30.459Z    1\n",
       " 2023-12-23T19:30:41.067Z    1\n",
       " 2023-12-23T19:40:20.884Z    1\n",
       "                            ..\n",
       " 2023-12-09T20:24:10.198Z    1\n",
       " 2023-12-09T20:56:46.078Z    1\n",
       " 2023-12-09T20:52:07.953Z    1\n",
       " 2023-12-09T23:02:20.596Z    1\n",
       " 2024-01-03T23:57:11.947Z    1\n",
       " Name: count, Length: 9330, dtype: int64,\n",
       " 18697,\n",
       " 9330)"
      ]
     },
     "execution_count": 56,
     "metadata": {},
     "output_type": "execute_result"
    }
   ],
   "source": [
    "df.chatStartTime.value_counts(), df.chatStartTime.isnull().sum(), df.chatStartTime.notnull().sum()"
   ]
  },
  {
   "cell_type": "markdown",
   "id": "f449c43d-de5b-420c-bd67-69566491c18f",
   "metadata": {},
   "source": [
    "We need to convert this into datetime format and 18697 cells are null. We need to check whether these null cells are only those cells whose consultationType is chat only or a mixure because there are 19514 cells are chat only"
   ]
  },
  {
   "cell_type": "code",
   "execution_count": 57,
   "id": "582a1642-0fe3-4e15-9ef6-37f5e200c954",
   "metadata": {},
   "outputs": [
    {
     "data": {
      "text/plain": [
       "0.5446863133122961"
      ]
     },
     "execution_count": 57,
     "metadata": {},
     "output_type": "execute_result"
    }
   ],
   "source": [
    "#Consultation Type = Chat, % of null values in chat start time\n",
    "df[df.consultationType=='Chat'].chatStartTime.isnull().sum()/df.chatStartTime.isnull().sum()"
   ]
  },
  {
   "cell_type": "code",
   "execution_count": 58,
   "id": "3fc8679d-7fd4-40be-a72b-b7ef0c9b53cd",
   "metadata": {},
   "outputs": [
    {
     "data": {
      "text/plain": [
       "0.45504626410654114"
      ]
     },
     "execution_count": 58,
     "metadata": {},
     "output_type": "execute_result"
    }
   ],
   "source": [
    "#Consultation Type = Call, % of null values in chat start time\n",
    "df[df.consultationType=='Call'].chatStartTime.isnull().sum()/df.chatStartTime.isnull().sum()"
   ]
  },
  {
   "cell_type": "markdown",
   "id": "3514039b-455b-4098-8a64-0f5449099115",
   "metadata": {},
   "source": [
    "It is a mixture"
   ]
  },
  {
   "cell_type": "code",
   "execution_count": 59,
   "id": "fdc09198-9bd9-4f2d-a30a-875093f016af",
   "metadata": {},
   "outputs": [
    {
     "data": {
      "text/plain": [
       "0       2023-12-01 00:07:33.248000+00:00\n",
       "1       2023-12-01 00:09:55.808000+00:00\n",
       "2       2023-12-01 00:22:04.072000+00:00\n",
       "3       2023-12-01 00:29:43.556000+00:00\n",
       "4                                    NaT\n",
       "                      ...               \n",
       "28022   2024-01-03 23:36:10.118000+00:00\n",
       "28023                                NaT\n",
       "28024                                NaT\n",
       "28025                                NaT\n",
       "28026   2024-01-03 23:57:11.947000+00:00\n",
       "Name: chatStartTime, Length: 28027, dtype: datetime64[ns, UTC]"
      ]
     },
     "execution_count": 59,
     "metadata": {},
     "output_type": "execute_result"
    }
   ],
   "source": [
    "df.chatStartTime=pd.to_datetime(df.chatStartTime)\n",
    "df.chatStartTime"
   ]
  },
  {
   "cell_type": "code",
   "execution_count": 60,
   "id": "9f420be0-19d5-40ce-b83f-d22ae80b1c8c",
   "metadata": {},
   "outputs": [
    {
     "data": {
      "text/plain": [
       "18697"
      ]
     },
     "execution_count": 60,
     "metadata": {},
     "output_type": "execute_result"
    }
   ],
   "source": [
    "df.chatStartTime.isnull().sum()"
   ]
  },
  {
   "cell_type": "code",
   "execution_count": 61,
   "id": "efd14b2c-2f92-4990-adba-8b234d232f30",
   "metadata": {},
   "outputs": [
    {
     "data": {
      "text/plain": [
       "count                                   9330\n",
       "mean     2023-12-16 23:19:30.848512768+00:00\n",
       "min         2023-12-01 00:07:33.248000+00:00\n",
       "25%      2023-12-05 10:16:52.251000064+00:00\n",
       "50%      2023-12-18 16:21:31.289999872+00:00\n",
       "75%      2023-12-26 10:05:14.892499968+00:00\n",
       "max         2024-01-03 23:57:11.947000+00:00\n",
       "Name: chatStartTime, dtype: object"
      ]
     },
     "execution_count": 61,
     "metadata": {},
     "output_type": "execute_result"
    }
   ],
   "source": [
    "df.chatStartTime.describe()"
   ]
  },
  {
   "cell_type": "markdown",
   "id": "090a6455-baea-4c70-9f34-93838bcb4fe8",
   "metadata": {},
   "source": [
    "From the createAt we know that there is a linear series that the time is being followed. So best method will be linear interpolation."
   ]
  },
  {
   "cell_type": "code",
   "execution_count": 62,
   "id": "53e3d99d-50f5-44dc-bec2-4062c484195d",
   "metadata": {},
   "outputs": [
    {
     "name": "stdout",
     "output_type": "stream",
     "text": [
      "<class 'pandas.core.series.Series'>\n",
      "RangeIndex: 28027 entries, 0 to 28026\n",
      "Series name: chatStartTime\n",
      "Non-Null Count  Dtype              \n",
      "--------------  -----              \n",
      "9330 non-null   datetime64[ns, UTC]\n",
      "dtypes: datetime64[ns, UTC](1)\n",
      "memory usage: 219.1 KB\n"
     ]
    }
   ],
   "source": [
    "df['chatStartTime'].info()"
   ]
  },
  {
   "cell_type": "code",
   "execution_count": 63,
   "id": "74c55cae-b210-42ba-b113-3608577d70fb",
   "metadata": {},
   "outputs": [
    {
     "data": {
      "text/plain": [
       "0.0      7437\n",
       "1.0       389\n",
       "3.0       254\n",
       "4.0       188\n",
       "2.0       183\n",
       "         ... \n",
       "202.0       1\n",
       "33.0        1\n",
       "458.0       1\n",
       "73.0        1\n",
       "565.0       1\n",
       "Name: count, Length: 127, dtype: int64"
      ]
     },
     "execution_count": 63,
     "metadata": {},
     "output_type": "execute_result"
    }
   ],
   "source": [
    "((df.chatStartTime-df.createdAt).dt.seconds//60).value_counts()"
   ]
  },
  {
   "cell_type": "code",
   "execution_count": 64,
   "id": "f6a9ccb3-e2b1-410f-9437-f11431818105",
   "metadata": {},
   "outputs": [
    {
     "data": {
      "text/plain": [
       "9330"
      ]
     },
     "execution_count": 64,
     "metadata": {},
     "output_type": "execute_result"
    }
   ],
   "source": [
    "df.chatStartTime.notnull().sum()"
   ]
  },
  {
   "cell_type": "code",
   "execution_count": 65,
   "id": "2714a5a8-a5f1-457a-b358-70330d62ce61",
   "metadata": {},
   "outputs": [
    {
     "data": {
      "text/plain": [
       "0.0      79.710611\n",
       "1.0       4.169346\n",
       "3.0       2.722401\n",
       "4.0       2.015005\n",
       "2.0       1.961415\n",
       "           ...    \n",
       "202.0     0.010718\n",
       "33.0      0.010718\n",
       "458.0     0.010718\n",
       "73.0      0.010718\n",
       "565.0     0.010718\n",
       "Name: count, Length: 127, dtype: float64"
      ]
     },
     "execution_count": 65,
     "metadata": {},
     "output_type": "execute_result"
    }
   ],
   "source": [
    "((((df.chatStartTime-df.createdAt).dt.seconds//60).value_counts()*100)/df.chatStartTime.notnull().sum())"
   ]
  },
  {
   "cell_type": "code",
   "execution_count": 66,
   "id": "49b59460-e006-4945-9029-f1d5020da302",
   "metadata": {},
   "outputs": [
    {
     "data": {
      "text/plain": [
       "92.44372990353698"
      ]
     },
     "execution_count": 66,
     "metadata": {},
     "output_type": "execute_result"
    }
   ],
   "source": [
    "((df[((df.chatStartTime-df.createdAt).dt.seconds//60)<=5].shape[0])*100)/df.chatStartTime.notnull().sum()"
   ]
  },
  {
   "cell_type": "markdown",
   "id": "f2565d02-728c-4950-ab45-5f9a56430825",
   "metadata": {},
   "source": [
    "Approx 92.44% of chats are starting within 5 mins of creation time."
   ]
  },
  {
   "cell_type": "code",
   "execution_count": 67,
   "id": "bb225fb6-df0b-491f-8f9a-44015c8a39ba",
   "metadata": {},
   "outputs": [
    {
     "data": {
      "text/plain": [
       "(0.0, 1352.0)"
      ]
     },
     "execution_count": 67,
     "metadata": {},
     "output_type": "execute_result"
    }
   ],
   "source": [
    "((df.chatStartTime-df.createdAt).dt.seconds//60).min(), ((df.chatStartTime-df.createdAt).dt.seconds//60).max()"
   ]
  },
  {
   "cell_type": "code",
   "execution_count": 68,
   "id": "acf78d40-bf52-431f-99a9-3a11f0998bef",
   "metadata": {},
   "outputs": [
    {
     "data": {
      "image/png": "[encoded data removed]",
      "text/plain": [
       "<Figure size 640x480 with 1 Axes>"
      ]
     },
     "metadata": {},
     "output_type": "display_data"
    }
   ],
   "source": [
    "((df.chatStartTime-df.createdAt).dt.seconds//60).value_counts().loc[:20].plot(kind='bar');"
   ]
  },
  {
   "cell_type": "markdown",
   "id": "3fbbe6a0-271d-497d-8d63-7dd3b3ffc583",
   "metadata": {},
   "source": [
    "There are 2 ways to impute here for null values to lessen the bias of the data.\n",
    "- As the 80% of data are taking 0 mins as a difference from created at then we can use this to fill the null cells. But filling data like this needs better understanding as if most of the null data are at the pick hours then the chart start time will be higher\n",
    "- We can use Linear Interpolation, fill this gap as date here is following a pattern of linearity."
   ]
  },
  {
   "cell_type": "code",
   "execution_count": 69,
   "id": "7e9bf7ce-5baa-429b-bacf-16422a623afa",
   "metadata": {},
   "outputs": [
    {
     "data": {
      "text/plain": [
       "19   2023-12-01 02:30:58.251000+00:00\n",
       "20                                NaT\n",
       "21                                NaT\n",
       "22                                NaT\n",
       "23                                NaT\n",
       "24   2023-12-01 02:31:11.607000+00:00\n",
       "25                                NaT\n",
       "26   2023-12-01 02:38:10.186000+00:00\n",
       "27   2023-12-01 02:37:09.096000+00:00\n",
       "28   2023-12-01 02:40:27.855000+00:00\n",
       "29   2023-12-01 02:38:15.254000+00:00\n",
       "30   2023-12-01 02:49:17.561000+00:00\n",
       "31                                NaT\n",
       "32   2023-12-01 02:57:05.408000+00:00\n",
       "33                                NaT\n",
       "34   2023-12-01 02:47:23.982000+00:00\n",
       "35                                NaT\n",
       "36   2023-12-01 02:52:49.079000+00:00\n",
       "37   2023-12-01 02:52:30.583000+00:00\n",
       "38   2023-12-01 02:54:44.170000+00:00\n",
       "39   2023-12-01 02:55:50.957000+00:00\n",
       "Name: chatStartTime, dtype: datetime64[ns, UTC]"
      ]
     },
     "execution_count": 69,
     "metadata": {},
     "output_type": "execute_result"
    }
   ],
   "source": [
    "df.chatStartTime[19:40]"
   ]
  },
  {
   "cell_type": "code",
   "execution_count": 70,
   "id": "818c8273-9811-4d97-8b6f-cdb174d308b6",
   "metadata": {},
   "outputs": [
    {
     "data": {
      "text/plain": [
       "19      2023-12-01 02:30:58.251000+00:00\n",
       "20   2023-12-01 02:31:00.922200064+00:00\n",
       "21   2023-12-01 02:31:03.593400064+00:00\n",
       "22   2023-12-01 02:31:06.264600064+00:00\n",
       "23   2023-12-01 02:31:08.935800064+00:00\n",
       "24      2023-12-01 02:31:11.607000+00:00\n",
       "25   2023-12-01 02:34:40.896499968+00:00\n",
       "26      2023-12-01 02:38:10.186000+00:00\n",
       "27      2023-12-01 02:37:09.096000+00:00\n",
       "28      2023-12-01 02:40:27.855000+00:00\n",
       "29      2023-12-01 02:38:15.254000+00:00\n",
       "30      2023-12-01 02:49:17.561000+00:00\n",
       "31   2023-12-01 02:53:11.484499968+00:00\n",
       "32      2023-12-01 02:57:05.408000+00:00\n",
       "33   2023-12-01 02:52:14.695000064+00:00\n",
       "34      2023-12-01 02:47:23.982000+00:00\n",
       "35   2023-12-01 02:50:06.530500096+00:00\n",
       "36      2023-12-01 02:52:49.079000+00:00\n",
       "37      2023-12-01 02:52:30.583000+00:00\n",
       "38      2023-12-01 02:54:44.170000+00:00\n",
       "39      2023-12-01 02:55:50.957000+00:00\n",
       "Name: chatStartTime, dtype: datetime64[ns, UTC]"
      ]
     },
     "execution_count": 70,
     "metadata": {},
     "output_type": "execute_result"
    }
   ],
   "source": [
    "df['chatStartTime'].interpolate(method='linear')[19:40]"
   ]
  },
  {
   "cell_type": "code",
   "execution_count": 71,
   "id": "e7d9232d-de4c-4c20-8e20-1a4ae584dcd4",
   "metadata": {},
   "outputs": [
    {
     "data": {
      "text/plain": [
       "chatStartTime\n",
       "2023-12-01 00:07:33.248000+00:00       1\n",
       "2023-12-24 03:24:20.120750080+00:00    1\n",
       "2023-12-24 03:35:27.035333376+00:00    1\n",
       "2023-12-24 03:34:15.025000+00:00       1\n",
       "2023-12-24 03:32:43.620250112+00:00    1\n",
       "                                      ..\n",
       "2023-12-14 12:24:57.780125184+00:00    1\n",
       "2023-12-14 12:24:29.475000+00:00       1\n",
       "2023-12-14 12:24:00.181666816+00:00    1\n",
       "2023-12-14 12:23:30.888333312+00:00    1\n",
       "2024-01-03 23:57:11.947000+00:00       1\n",
       "Name: count, Length: 28027, dtype: int64"
      ]
     },
     "execution_count": 71,
     "metadata": {},
     "output_type": "execute_result"
    }
   ],
   "source": [
    "df['chatStartTime'].interpolate(method='linear').value_counts()"
   ]
  },
  {
   "cell_type": "code",
   "execution_count": 72,
   "id": "d4c396fa-751b-43ce-bf4e-72c2caca2d7e",
   "metadata": {},
   "outputs": [
    {
     "data": {
      "text/plain": [
       "count                                  28027\n",
       "mean     2023-12-18 07:36:49.089284608+00:00\n",
       "min         2023-12-01 00:07:33.248000+00:00\n",
       "25%      2023-12-10 17:12:57.960214272+00:00\n",
       "50%      2023-12-18 18:54:29.558333440+00:00\n",
       "75%      2023-12-26 07:28:51.384999936+00:00\n",
       "max         2024-01-03 23:57:11.947000+00:00\n",
       "Name: chatStartTime, dtype: object"
      ]
     },
     "execution_count": 72,
     "metadata": {},
     "output_type": "execute_result"
    }
   ],
   "source": [
    "df['chatStartTime'].interpolate(method='linear').describe()"
   ]
  },
  {
   "cell_type": "code",
   "execution_count": 73,
   "id": "eb71fa54-d9d5-4957-883e-79a371caa786",
   "metadata": {},
   "outputs": [],
   "source": [
    "df['chatStartTime']=df['chatStartTime'].interpolate(method='linear')"
   ]
  },
  {
   "cell_type": "code",
   "execution_count": 74,
   "id": "c541af03-58e3-4916-9507-add087b8b62f",
   "metadata": {},
   "outputs": [
    {
     "data": {
      "image/png": "[encoded data removed]",
      "text/plain": [
       "<Figure size 640x480 with 1 Axes>"
      ]
     },
     "metadata": {},
     "output_type": "display_data"
    }
   ],
   "source": [
    "sns.lineplot(df['chatStartTime']);"
   ]
  },
  {
   "cell_type": "code",
   "execution_count": 75,
   "id": "80a7a7ca-ac4a-4337-aa33-69733e5ea701",
   "metadata": {},
   "outputs": [
    {
     "data": {
      "image/png": "[encoded data removed]",
      "text/plain": [
       "<Figure size 700x500 with 1 Axes>"
      ]
     },
     "metadata": {},
     "output_type": "display_data"
    }
   ],
   "source": [
    "plt.figure(figsize=(7,5))\n",
    "sns.histplot(df['chatStartTime'], kde=True)\n",
    "plt.xticks(rotation = 90);"
   ]
  },
  {
   "cell_type": "code",
   "execution_count": 76,
   "id": "d65890ba-cd0e-4e25-8448-f943426c2a38",
   "metadata": {},
   "outputs": [
    {
     "data": {
      "text/plain": [
       "(chatEndTime\n",
       " 2023-12-01T00:07:33.773Z    1\n",
       " 2023-12-21T09:10:51.605Z    1\n",
       " 2023-12-21T09:02:29.064Z    1\n",
       " 2023-12-21T09:03:05.228Z    1\n",
       " 2023-12-21T09:05:04.991Z    1\n",
       "                            ..\n",
       " 2023-12-15T06:41:26.481Z    1\n",
       " 2023-12-15T06:42:49.284Z    1\n",
       " 2023-12-15T06:47:30.135Z    1\n",
       " 2023-12-15T06:43:51.078Z    1\n",
       " 2024-01-03T23:57:12.445Z    1\n",
       " Name: count, Length: 13031, dtype: int64,\n",
       " 14996)"
      ]
     },
     "execution_count": 76,
     "metadata": {},
     "output_type": "execute_result"
    }
   ],
   "source": [
    "df.chatEndTime.value_counts(), df.chatEndTime.isnull().sum()"
   ]
  },
  {
   "cell_type": "code",
   "execution_count": 77,
   "id": "b6340e99-8ca2-4329-916d-0a2e673372f4",
   "metadata": {},
   "outputs": [
    {
     "data": {
      "text/plain": [
       "0       2023-12-01 00:07:33.773000+00:00\n",
       "1       2023-12-01 00:09:56.052000+00:00\n",
       "2       2023-12-01 00:22:04.325000+00:00\n",
       "3       2023-12-01 00:29:43.960000+00:00\n",
       "4                                    NaT\n",
       "                      ...               \n",
       "28022   2024-01-03 23:37:57.259000+00:00\n",
       "28023                                NaT\n",
       "28024                                NaT\n",
       "28025                                NaT\n",
       "28026   2024-01-03 23:57:12.445000+00:00\n",
       "Name: chatEndTime, Length: 28027, dtype: datetime64[ns, UTC]"
      ]
     },
     "execution_count": 77,
     "metadata": {},
     "output_type": "execute_result"
    }
   ],
   "source": [
    "df.chatEndTime=pd.to_datetime(df.chatEndTime)\n",
    "df.chatEndTime"
   ]
  },
  {
   "cell_type": "code",
   "execution_count": 78,
   "id": "051e82e6-abed-40ce-b7e1-ae147ec92d72",
   "metadata": {},
   "outputs": [
    {
     "data": {
      "text/plain": [
       "count                                  28027\n",
       "mean     2023-12-18 07:35:29.772157952+00:00\n",
       "min         2023-12-01 00:07:33.773000+00:00\n",
       "25%      2023-12-10 17:12:58.253714432+00:00\n",
       "50%      2023-12-18 18:51:47.707000064+00:00\n",
       "75%      2023-12-26 07:12:00.915499776+00:00\n",
       "max         2024-01-03 23:57:12.445000+00:00\n",
       "Name: chatEndTime, dtype: object"
      ]
     },
     "execution_count": 78,
     "metadata": {},
     "output_type": "execute_result"
    }
   ],
   "source": [
    "df['chatEndTime'].interpolate(method='linear').describe()"
   ]
  },
  {
   "cell_type": "code",
   "execution_count": 79,
   "id": "e5bf9460-cf00-4a86-9431-5e58e7aff9d3",
   "metadata": {},
   "outputs": [],
   "source": [
    "df['chatEndTime']=df['chatEndTime'].interpolate(method='linear')"
   ]
  },
  {
   "cell_type": "code",
   "execution_count": 80,
   "id": "b3473b8f-bf4a-4e0e-b355-60f5067064d6",
   "metadata": {},
   "outputs": [
    {
     "data": {
      "text/plain": [
       "count                                  28027\n",
       "mean     2023-12-18 07:35:29.772157952+00:00\n",
       "min         2023-12-01 00:07:33.773000+00:00\n",
       "25%      2023-12-10 17:12:58.253714432+00:00\n",
       "50%      2023-12-18 18:51:47.707000064+00:00\n",
       "75%      2023-12-26 07:12:00.915499776+00:00\n",
       "max         2024-01-03 23:57:12.445000+00:00\n",
       "Name: chatEndTime, dtype: object"
      ]
     },
     "execution_count": 80,
     "metadata": {},
     "output_type": "execute_result"
    }
   ],
   "source": [
    "df['chatEndTime'].interpolate(method='linear').describe()"
   ]
  },
  {
   "cell_type": "code",
   "execution_count": 81,
   "id": "57156122-12b0-4ea6-9cd4-73940959f8bf",
   "metadata": {},
   "outputs": [
    {
     "data": {
      "text/plain": [
       "0          2023-12-01 00:07:33.773000+00:00\n",
       "1          2023-12-01 00:09:56.052000+00:00\n",
       "2          2023-12-01 00:22:04.325000+00:00\n",
       "3          2023-12-01 00:29:43.960000+00:00\n",
       "4       2023-12-01 00:44:35.739500032+00:00\n",
       "                        ...                \n",
       "28022      2024-01-03 23:37:57.259000+00:00\n",
       "28023   2024-01-03 23:42:46.055500032+00:00\n",
       "28024      2024-01-03 23:47:34.852000+00:00\n",
       "28025   2024-01-03 23:52:23.648499968+00:00\n",
       "28026      2024-01-03 23:57:12.445000+00:00\n",
       "Name: chatEndTime, Length: 28027, dtype: datetime64[ns, UTC]"
      ]
     },
     "execution_count": 81,
     "metadata": {},
     "output_type": "execute_result"
    }
   ],
   "source": [
    "df['chatEndTime']"
   ]
  },
  {
   "cell_type": "code",
   "execution_count": 82,
   "id": "fc2c9220-ab77-4171-8ef6-88bb449894f1",
   "metadata": {},
   "outputs": [
    {
     "data": {
      "image/png": "[encoded data removed]",
      "text/plain": [
       "<Figure size 640x480 with 1 Axes>"
      ]
     },
     "metadata": {},
     "output_type": "display_data"
    }
   ],
   "source": [
    "sns.lineplot(df['chatEndTime']);"
   ]
  },
  {
   "cell_type": "code",
   "execution_count": 83,
   "id": "fa7ad299-edd8-48b1-aaf9-44e8488e40dc",
   "metadata": {},
   "outputs": [
    {
     "data": {
      "image/png": "[encoded data removed]",
      "text/plain": [
       "<Figure size 700x500 with 1 Axes>"
      ]
     },
     "metadata": {},
     "output_type": "display_data"
    }
   ],
   "source": [
    "plt.figure(figsize=(7,5))\n",
    "sns.histplot(df['chatEndTime'], kde=True)\n",
    "plt.xticks(rotation = 90);"
   ]
  },
  {
   "cell_type": "code",
   "execution_count": 84,
   "id": "cfb0e58d-6de7-463a-b567-b2283a41caad",
   "metadata": {},
   "outputs": [
    {
     "data": {
      "text/plain": [
       "(0.000000     5060\n",
       " 5.083333     1320\n",
       " 5.066667     1232\n",
       " 5.050000      758\n",
       " 5.000000      564\n",
       "              ... \n",
       " 38.116667       1\n",
       " 39.533333       1\n",
       " 38.183333       1\n",
       " 35.466667       1\n",
       " 23.566667       1\n",
       " Name: count, Length: 1590, dtype: int64,\n",
       " 0.0,\n",
       " 1439.9833333333333)"
      ]
     },
     "execution_count": 84,
     "metadata": {},
     "output_type": "execute_result"
    }
   ],
   "source": [
    "((df.chatEndTime-df.chatStartTime).dt.seconds/60).value_counts(), ((df.chatEndTime-df.chatStartTime).dt.seconds/60).min(), ((df.chatEndTime-df.chatStartTime).dt.seconds/60).max()"
   ]
  },
  {
   "cell_type": "code",
   "execution_count": 85,
   "id": "c28fbea3-0b03-4dc3-88f1-55fac0839662",
   "metadata": {},
   "outputs": [
    {
     "data": {
      "text/plain": [
       "(0.583333     2284\n",
       " 0.550000     1371\n",
       " 0.600000     1190\n",
       " 0.533333      815\n",
       " 0.566667      596\n",
       "              ... \n",
       " 14.833333       1\n",
       " 8.800000        1\n",
       " 16.916667       1\n",
       " 9.083333        1\n",
       " 74.266667       1\n",
       " Name: count, Length: 1524, dtype: int64,\n",
       " 0.0,\n",
       " 1434.75)"
      ]
     },
     "execution_count": 85,
     "metadata": {},
     "output_type": "execute_result"
    }
   ],
   "source": [
    "((df.updatedAt-df.createdAt).dt.seconds/60).value_counts(), ((df.updatedAt-df.createdAt).dt.seconds/60).min(), ((df.updatedAt-df.createdAt).dt.seconds/60).max()"
   ]
  },
  {
   "cell_type": "code",
   "execution_count": 86,
   "id": "46110062-db22-4b79-a50c-32d673be9f56",
   "metadata": {},
   "outputs": [
    {
     "data": {
      "text/plain": [
       "(timeDuration\n",
       "  0.000000     4903\n",
       " -0.166667     3758\n",
       "  3.000000     1458\n",
       "  4.916667      714\n",
       "  4.900000      643\n",
       "               ... \n",
       "  5.005033        1\n",
       "  5.006267        1\n",
       "  1.314567        1\n",
       "  0.477050        1\n",
       "  41.900000       1\n",
       " Name: count, Length: 2836, dtype: int64,\n",
       " 6629,\n",
       " 21398)"
      ]
     },
     "execution_count": 86,
     "metadata": {},
     "output_type": "execute_result"
    }
   ],
   "source": [
    "df.timeDuration.value_counts(), df.timeDuration.isnull().sum(), df.timeDuration.notnull().sum()"
   ]
  },
  {
   "cell_type": "markdown",
   "id": "ac44099a-c119-41f4-bf8a-6dc05e5ca31b",
   "metadata": {},
   "source": [
    "Presence of negative value in time duration doesn't make sense as conversation cannot end before starting of conversation. Let see how many negative values are there."
   ]
  },
  {
   "cell_type": "code",
   "execution_count": 87,
   "id": "dc63dcb8-e153-4f4c-b7ed-9e368de1a251",
   "metadata": {},
   "outputs": [
    {
     "data": {
      "text/plain": [
       "timeDuration\n",
       "-0.166667    3758\n",
       "-0.133333      18\n",
       "-0.116667      13\n",
       "-0.050000      12\n",
       "-0.083333      11\n",
       "-0.033333      11\n",
       "-0.066667       7\n",
       "-0.150000       6\n",
       "-0.100000       5\n",
       "-0.016667       5\n",
       "Name: count, dtype: int64"
      ]
     },
     "execution_count": 87,
     "metadata": {},
     "output_type": "execute_result"
    }
   ],
   "source": [
    "df[df.timeDuration<0].timeDuration.value_counts()"
   ]
  },
  {
   "cell_type": "markdown",
   "id": "ba58cc20-bed8-4612-ae87-755c6c29c3e0",
   "metadata": {},
   "source": [
    "We can see there are around 3800 cells are negative in timeDuration column. It can be the due to incorrect data entry or data corruption, logical flaw in the calculation."
   ]
  },
  {
   "cell_type": "markdown",
   "id": "c70e2738-c03c-4622-a3ac-af7cf72c7ddc",
   "metadata": {},
   "source": [
    "Lets check if the time duration is the duration difference of chatstarttime and chatendtime"
   ]
  },
  {
   "cell_type": "code",
   "execution_count": 88,
   "id": "8af29819-85a2-4446-b30e-7a40efe26fb2",
   "metadata": {},
   "outputs": [
    {
     "data": {
      "text/html": [
       "<div>\n",
       "<style scoped>\n",
       "    .dataframe tbody tr th:only-of-type {\n",
       "        vertical-align: middle;\n",
       "    }\n",
       "\n",
       "    .dataframe tbody tr th {\n",
       "        vertical-align: top;\n",
       "    }\n",
       "\n",
       "    .dataframe thead th {\n",
       "        text-align: right;\n",
       "    }\n",
       "</style>\n",
       "<table border=\"1\" class=\"dataframe\">\n",
       "  <thead>\n",
       "    <tr style=\"text-align: right;\">\n",
       "      <th></th>\n",
       "      <th>_id</th>\n",
       "      <th>user</th>\n",
       "      <th>chatStatus</th>\n",
       "      <th>guru</th>\n",
       "      <th>guruName</th>\n",
       "      <th>gid</th>\n",
       "      <th>uid</th>\n",
       "      <th>consultationType</th>\n",
       "      <th>website</th>\n",
       "      <th>refundStatus</th>\n",
       "      <th>...</th>\n",
       "      <th>feedback</th>\n",
       "      <th>hideHistory</th>\n",
       "      <th>cardPosition</th>\n",
       "      <th>Remedies</th>\n",
       "      <th>offer</th>\n",
       "      <th>refunds[0]</th>\n",
       "      <th>source</th>\n",
       "      <th>callSeconds</th>\n",
       "      <th>complementaryCallOrganiser</th>\n",
       "      <th>disconnectedBy</th>\n",
       "    </tr>\n",
       "  </thead>\n",
       "  <tbody>\n",
       "    <tr>\n",
       "      <th>46</th>\n",
       "      <td>65694d2a919324acb6ec3be0</td>\n",
       "      <td>65694cc4919324acb6ec0339</td>\n",
       "      <td>NaN</td>\n",
       "      <td>652863242c4f29e6d54f42c5</td>\n",
       "      <td>Astro Rajesh S</td>\n",
       "      <td>241</td>\n",
       "      <td>30144</td>\n",
       "      <td>Call</td>\n",
       "      <td>app</td>\n",
       "      <td>no-refund</td>\n",
       "      <td>...</td>\n",
       "      <td>NaN</td>\n",
       "      <td>NaN</td>\n",
       "      <td>NaN</td>\n",
       "      <td>NaN</td>\n",
       "      <td>NaN</td>\n",
       "      <td>NaN</td>\n",
       "      <td>NaN</td>\n",
       "      <td>NaN</td>\n",
       "      <td>NaN</td>\n",
       "      <td>NaN</td>\n",
       "    </tr>\n",
       "    <tr>\n",
       "      <th>48</th>\n",
       "      <td>65694d4f919324acb6ec3d27</td>\n",
       "      <td>65694cc4919324acb6ec0339</td>\n",
       "      <td>NaN</td>\n",
       "      <td>652863242c4f29e6d54f42c5</td>\n",
       "      <td>Astro Rajesh S</td>\n",
       "      <td>241</td>\n",
       "      <td>30144</td>\n",
       "      <td>Call</td>\n",
       "      <td>app</td>\n",
       "      <td>no-refund</td>\n",
       "      <td>...</td>\n",
       "      <td>NaN</td>\n",
       "      <td>NaN</td>\n",
       "      <td>NaN</td>\n",
       "      <td>NaN</td>\n",
       "      <td>NaN</td>\n",
       "      <td>NaN</td>\n",
       "      <td>NaN</td>\n",
       "      <td>NaN</td>\n",
       "      <td>NaN</td>\n",
       "      <td>NaN</td>\n",
       "    </tr>\n",
       "    <tr>\n",
       "      <th>143</th>\n",
       "      <td>65696ad1919324acb6f34f81</td>\n",
       "      <td>6568eb86919324acb6e76370</td>\n",
       "      <td>NaN</td>\n",
       "      <td>65054786f5f203225bfcdd10</td>\n",
       "      <td>Astro Savita S</td>\n",
       "      <td>96</td>\n",
       "      <td>30119</td>\n",
       "      <td>Call</td>\n",
       "      <td>app</td>\n",
       "      <td>no-refund</td>\n",
       "      <td>...</td>\n",
       "      <td>NaN</td>\n",
       "      <td>NaN</td>\n",
       "      <td>NaN</td>\n",
       "      <td>NaN</td>\n",
       "      <td>NaN</td>\n",
       "      <td>NaN</td>\n",
       "      <td>NaN</td>\n",
       "      <td>NaN</td>\n",
       "      <td>NaN</td>\n",
       "      <td>NaN</td>\n",
       "    </tr>\n",
       "    <tr>\n",
       "      <th>212</th>\n",
       "      <td>65697598919324acb6f53c20</td>\n",
       "      <td>656973a8919324acb6f4de51</td>\n",
       "      <td>NaN</td>\n",
       "      <td>65489f0807bc1e26099117f8</td>\n",
       "      <td>Astro Shalini</td>\n",
       "      <td>256</td>\n",
       "      <td>30189</td>\n",
       "      <td>Call</td>\n",
       "      <td>app</td>\n",
       "      <td>no-refund</td>\n",
       "      <td>...</td>\n",
       "      <td>NaN</td>\n",
       "      <td>NaN</td>\n",
       "      <td>NaN</td>\n",
       "      <td>NaN</td>\n",
       "      <td>NaN</td>\n",
       "      <td>NaN</td>\n",
       "      <td>NaN</td>\n",
       "      <td>NaN</td>\n",
       "      <td>NaN</td>\n",
       "      <td>NaN</td>\n",
       "    </tr>\n",
       "    <tr>\n",
       "      <th>249</th>\n",
       "      <td>65697c5d919324acb6f65777</td>\n",
       "      <td>6553067d9e21c36df51629a3</td>\n",
       "      <td>NaN</td>\n",
       "      <td>656457bbf318e348dac17cfd</td>\n",
       "      <td>Astro sree valli</td>\n",
       "      <td>278</td>\n",
       "      <td>21477</td>\n",
       "      <td>Call</td>\n",
       "      <td>app</td>\n",
       "      <td>no-refund</td>\n",
       "      <td>...</td>\n",
       "      <td>NaN</td>\n",
       "      <td>NaN</td>\n",
       "      <td>NaN</td>\n",
       "      <td>NaN</td>\n",
       "      <td>NaN</td>\n",
       "      <td>NaN</td>\n",
       "      <td>NaN</td>\n",
       "      <td>NaN</td>\n",
       "      <td>NaN</td>\n",
       "      <td>NaN</td>\n",
       "    </tr>\n",
       "    <tr>\n",
       "      <th>...</th>\n",
       "      <td>...</td>\n",
       "      <td>...</td>\n",
       "      <td>...</td>\n",
       "      <td>...</td>\n",
       "      <td>...</td>\n",
       "      <td>...</td>\n",
       "      <td>...</td>\n",
       "      <td>...</td>\n",
       "      <td>...</td>\n",
       "      <td>...</td>\n",
       "      <td>...</td>\n",
       "      <td>...</td>\n",
       "      <td>...</td>\n",
       "      <td>...</td>\n",
       "      <td>...</td>\n",
       "      <td>...</td>\n",
       "      <td>...</td>\n",
       "      <td>...</td>\n",
       "      <td>...</td>\n",
       "      <td>...</td>\n",
       "      <td>...</td>\n",
       "    </tr>\n",
       "    <tr>\n",
       "      <th>27988</th>\n",
       "      <td>6595cb61883c1bbae79a9463</td>\n",
       "      <td>6595c6cc883c1bbae79a6253</td>\n",
       "      <td>NaN</td>\n",
       "      <td>65054788f5f203225bfcdd6a</td>\n",
       "      <td>Astro Pulkit  S</td>\n",
       "      <td>183</td>\n",
       "      <td>43992</td>\n",
       "      <td>Call</td>\n",
       "      <td>app</td>\n",
       "      <td>no-refund</td>\n",
       "      <td>...</td>\n",
       "      <td>NaN</td>\n",
       "      <td>False</td>\n",
       "      <td>NaN</td>\n",
       "      <td>NaN</td>\n",
       "      <td>first</td>\n",
       "      <td>NaN</td>\n",
       "      <td>Production</td>\n",
       "      <td>NaN</td>\n",
       "      <td>NaN</td>\n",
       "      <td>NaN</td>\n",
       "    </tr>\n",
       "    <tr>\n",
       "      <th>27990</th>\n",
       "      <td>6595ccef883c1bbae79a99fb</td>\n",
       "      <td>6595c6cc883c1bbae79a6253</td>\n",
       "      <td>NaN</td>\n",
       "      <td>65054784f5f203225bfcdcd1</td>\n",
       "      <td>Tarot  Rupanshi</td>\n",
       "      <td>74</td>\n",
       "      <td>43992</td>\n",
       "      <td>Call</td>\n",
       "      <td>app</td>\n",
       "      <td>no-refund</td>\n",
       "      <td>...</td>\n",
       "      <td>NaN</td>\n",
       "      <td>False</td>\n",
       "      <td>NaN</td>\n",
       "      <td>NaN</td>\n",
       "      <td>first</td>\n",
       "      <td>NaN</td>\n",
       "      <td>Production</td>\n",
       "      <td>NaN</td>\n",
       "      <td>NaN</td>\n",
       "      <td>NaN</td>\n",
       "    </tr>\n",
       "    <tr>\n",
       "      <th>27992</th>\n",
       "      <td>6595d1b5883c1bbae79af207</td>\n",
       "      <td>6595d170883c1bbae79aef59</td>\n",
       "      <td>NaN</td>\n",
       "      <td>65054784f5f203225bfcdcd1</td>\n",
       "      <td>Tarot  Rupanshi</td>\n",
       "      <td>74</td>\n",
       "      <td>43997</td>\n",
       "      <td>Call</td>\n",
       "      <td>app</td>\n",
       "      <td>no-refund</td>\n",
       "      <td>...</td>\n",
       "      <td>NaN</td>\n",
       "      <td>False</td>\n",
       "      <td>NaN</td>\n",
       "      <td>NaN</td>\n",
       "      <td>first</td>\n",
       "      <td>NaN</td>\n",
       "      <td>Production</td>\n",
       "      <td>NaN</td>\n",
       "      <td>NaN</td>\n",
       "      <td>NaN</td>\n",
       "    </tr>\n",
       "    <tr>\n",
       "      <th>27993</th>\n",
       "      <td>6595d1ff883c1bbae79af550</td>\n",
       "      <td>6595d170883c1bbae79aef59</td>\n",
       "      <td>incomplete</td>\n",
       "      <td>655f2f0cf9e3a0877f96ae5a</td>\n",
       "      <td>Tarot Leena</td>\n",
       "      <td>272</td>\n",
       "      <td>43997</td>\n",
       "      <td>Chat</td>\n",
       "      <td>gurucool</td>\n",
       "      <td>no-refund</td>\n",
       "      <td>...</td>\n",
       "      <td>NaN</td>\n",
       "      <td>False</td>\n",
       "      <td>NaN</td>\n",
       "      <td>NaN</td>\n",
       "      <td>first</td>\n",
       "      <td>NaN</td>\n",
       "      <td>Production</td>\n",
       "      <td>NaN</td>\n",
       "      <td>NaN</td>\n",
       "      <td>NaN</td>\n",
       "    </tr>\n",
       "    <tr>\n",
       "      <th>28026</th>\n",
       "      <td>6595f407883c1bbae79c6e11</td>\n",
       "      <td>6595f36c883c1bbae79c57c9</td>\n",
       "      <td>incomplete</td>\n",
       "      <td>6522d40f0562f2f5e506c1c4</td>\n",
       "      <td>Super  Guru Ji</td>\n",
       "      <td>227</td>\n",
       "      <td>44005</td>\n",
       "      <td>Chat</td>\n",
       "      <td>gurucool</td>\n",
       "      <td>no-refund</td>\n",
       "      <td>...</td>\n",
       "      <td>NaN</td>\n",
       "      <td>False</td>\n",
       "      <td>NaN</td>\n",
       "      <td>NaN</td>\n",
       "      <td>first</td>\n",
       "      <td>NaN</td>\n",
       "      <td>Production</td>\n",
       "      <td>NaN</td>\n",
       "      <td>NaN</td>\n",
       "      <td>NaN</td>\n",
       "    </tr>\n",
       "  </tbody>\n",
       "</table>\n",
       "<p>1560 rows × 45 columns</p>\n",
       "</div>"
      ],
      "text/plain": [
       "                            _id                      user  chatStatus  \\\n",
       "46     65694d2a919324acb6ec3be0  65694cc4919324acb6ec0339         NaN   \n",
       "48     65694d4f919324acb6ec3d27  65694cc4919324acb6ec0339         NaN   \n",
       "143    65696ad1919324acb6f34f81  6568eb86919324acb6e76370         NaN   \n",
       "212    65697598919324acb6f53c20  656973a8919324acb6f4de51         NaN   \n",
       "249    65697c5d919324acb6f65777  6553067d9e21c36df51629a3         NaN   \n",
       "...                         ...                       ...         ...   \n",
       "27988  6595cb61883c1bbae79a9463  6595c6cc883c1bbae79a6253         NaN   \n",
       "27990  6595ccef883c1bbae79a99fb  6595c6cc883c1bbae79a6253         NaN   \n",
       "27992  6595d1b5883c1bbae79af207  6595d170883c1bbae79aef59         NaN   \n",
       "27993  6595d1ff883c1bbae79af550  6595d170883c1bbae79aef59  incomplete   \n",
       "28026  6595f407883c1bbae79c6e11  6595f36c883c1bbae79c57c9  incomplete   \n",
       "\n",
       "                           guru          guruName  gid    uid  \\\n",
       "46     652863242c4f29e6d54f42c5    Astro Rajesh S  241  30144   \n",
       "48     652863242c4f29e6d54f42c5    Astro Rajesh S  241  30144   \n",
       "143    65054786f5f203225bfcdd10    Astro Savita S   96  30119   \n",
       "212    65489f0807bc1e26099117f8     Astro Shalini  256  30189   \n",
       "249    656457bbf318e348dac17cfd  Astro sree valli  278  21477   \n",
       "...                         ...               ...  ...    ...   \n",
       "27988  65054788f5f203225bfcdd6a   Astro Pulkit  S  183  43992   \n",
       "27990  65054784f5f203225bfcdcd1  Tarot  Rupanshi    74  43992   \n",
       "27992  65054784f5f203225bfcdcd1  Tarot  Rupanshi    74  43997   \n",
       "27993  655f2f0cf9e3a0877f96ae5a       Tarot Leena  272  43997   \n",
       "28026  6522d40f0562f2f5e506c1c4    Super  Guru Ji  227  44005   \n",
       "\n",
       "      consultationType   website refundStatus  ...  feedback  hideHistory  \\\n",
       "46                Call       app    no-refund  ...       NaN          NaN   \n",
       "48                Call       app    no-refund  ...       NaN          NaN   \n",
       "143               Call       app    no-refund  ...       NaN          NaN   \n",
       "212               Call       app    no-refund  ...       NaN          NaN   \n",
       "249               Call       app    no-refund  ...       NaN          NaN   \n",
       "...                ...       ...          ...  ...       ...          ...   \n",
       "27988             Call       app    no-refund  ...       NaN        False   \n",
       "27990             Call       app    no-refund  ...       NaN        False   \n",
       "27992             Call       app    no-refund  ...       NaN        False   \n",
       "27993             Chat  gurucool    no-refund  ...       NaN        False   \n",
       "28026             Chat  gurucool    no-refund  ...       NaN        False   \n",
       "\n",
       "       cardPosition  Remedies  offer refunds[0]      source  callSeconds  \\\n",
       "46              NaN       NaN    NaN        NaN         NaN          NaN   \n",
       "48              NaN       NaN    NaN        NaN         NaN          NaN   \n",
       "143             NaN       NaN    NaN        NaN         NaN          NaN   \n",
       "212             NaN       NaN    NaN        NaN         NaN          NaN   \n",
       "249             NaN       NaN    NaN        NaN         NaN          NaN   \n",
       "...             ...       ...    ...        ...         ...          ...   \n",
       "27988           NaN       NaN  first        NaN  Production          NaN   \n",
       "27990           NaN       NaN  first        NaN  Production          NaN   \n",
       "27992           NaN       NaN  first        NaN  Production          NaN   \n",
       "27993           NaN       NaN  first        NaN  Production          NaN   \n",
       "28026           NaN       NaN  first        NaN  Production          NaN   \n",
       "\n",
       "      complementaryCallOrganiser disconnectedBy  \n",
       "46                           NaN            NaN  \n",
       "48                           NaN            NaN  \n",
       "143                          NaN            NaN  \n",
       "212                          NaN            NaN  \n",
       "249                          NaN            NaN  \n",
       "...                          ...            ...  \n",
       "27988                        NaN            NaN  \n",
       "27990                        NaN            NaN  \n",
       "27992                        NaN            NaN  \n",
       "27993                        NaN            NaN  \n",
       "28026                        NaN            NaN  \n",
       "\n",
       "[1560 rows x 45 columns]"
      ]
     },
     "execution_count": 88,
     "metadata": {},
     "output_type": "execute_result"
    }
   ],
   "source": [
    "df[((df.chatEndTime-df.chatStartTime).dt.seconds/60)==df.timeDuration]"
   ]
  },
  {
   "cell_type": "markdown",
   "id": "1d36434b-ea24-432f-820b-f9980683ba18",
   "metadata": {},
   "source": [
    "Only 1733 rows are matching which is very less but as the timeduration is already there and only 24% of data is null. We can use either mode/mean depending on standard deviation. Also, it will be better for now if we convert all the -ve values to +ve as Time duation cannot be negative"
   ]
  },
  {
   "cell_type": "code",
   "execution_count": 89,
   "id": "18ca6f79-9542-4aff-adc6-de740f582146",
   "metadata": {},
   "outputs": [
    {
     "data": {
      "text/plain": [
       "count    21398.000000\n",
       "mean         1.977168\n",
       "std          3.340467\n",
       "min         -0.166667\n",
       "25%          0.000000\n",
       "50%          0.100000\n",
       "75%          4.356962\n",
       "max         67.000000\n",
       "Name: timeDuration, dtype: float64"
      ]
     },
     "execution_count": 89,
     "metadata": {},
     "output_type": "execute_result"
    }
   ],
   "source": [
    "df.timeDuration.describe()"
   ]
  },
  {
   "cell_type": "markdown",
   "id": "559612cb-4f37-4fbe-bc08-63e8ec81e55d",
   "metadata": {},
   "source": [
    "This values are in minutes"
   ]
  },
  {
   "cell_type": "code",
   "execution_count": 90,
   "id": "05d0a14a-ea18-4100-ae90-0f945d46f505",
   "metadata": {},
   "outputs": [
    {
     "data": {
      "text/plain": [
       "count    21398.000000\n",
       "mean         2.036434\n",
       "std          3.304669\n",
       "min          0.000000\n",
       "25%          0.003683\n",
       "50%          0.166667\n",
       "75%          4.356962\n",
       "max         67.000000\n",
       "Name: timeDuration, dtype: float64"
      ]
     },
     "execution_count": 90,
     "metadata": {},
     "output_type": "execute_result"
    }
   ],
   "source": [
    "abs(df.timeDuration).describe()"
   ]
  },
  {
   "cell_type": "code",
   "execution_count": 91,
   "id": "96743724-d47d-48a6-ab99-fbe14d14652a",
   "metadata": {},
   "outputs": [
    {
     "data": {
      "image/png": "[encoded data removed]",
      "text/plain": [
       "<Figure size 640x480 with 1 Axes>"
      ]
     },
     "metadata": {},
     "output_type": "display_data"
    }
   ],
   "source": [
    "sns.boxplot(df.timeDuration);"
   ]
  },
  {
   "cell_type": "code",
   "execution_count": 92,
   "id": "e442b44d-f5d5-4c43-af0c-7dcfb292891e",
   "metadata": {},
   "outputs": [
    {
     "data": {
      "image/png": "[encoded data removed]",
      "text/plain": [
       "<Figure size 640x480 with 1 Axes>"
      ]
     },
     "metadata": {},
     "output_type": "display_data"
    }
   ],
   "source": [
    "sns.boxplot(abs(df.timeDuration));"
   ]
  },
  {
   "cell_type": "code",
   "execution_count": 93,
   "id": "c8425b20-eedf-4b62-ad41-2a6b6ece87e3",
   "metadata": {},
   "outputs": [
    {
     "data": {
      "image/png": "[encoded data removed]",
      "text/plain": [
       "<Figure size 640x480 with 1 Axes>"
      ]
     },
     "metadata": {},
     "output_type": "display_data"
    }
   ],
   "source": [
    "sns.kdeplot(df.timeDuration);"
   ]
  },
  {
   "cell_type": "code",
   "execution_count": 94,
   "id": "6dc054c5-a161-4da1-b85e-b609c72ee80f",
   "metadata": {},
   "outputs": [
    {
     "data": {
      "image/png": "[encoded data removed]",
      "text/plain": [
       "<Figure size 640x480 with 1 Axes>"
      ]
     },
     "metadata": {},
     "output_type": "display_data"
    }
   ],
   "source": [
    "sns.kdeplot(abs(df.timeDuration));"
   ]
  },
  {
   "cell_type": "code",
   "execution_count": 95,
   "id": "627d78d8-c2e1-4158-9600-f99217fba7be",
   "metadata": {},
   "outputs": [],
   "source": [
    "df.timeDuration=abs(df.timeDuration)"
   ]
  },
  {
   "cell_type": "markdown",
   "id": "cd73941e-2499-4ded-bc6d-52ccf631abd0",
   "metadata": {},
   "source": [
    "As the data is right skewed so median imputation is better to handle null values"
   ]
  },
  {
   "cell_type": "code",
   "execution_count": 96,
   "id": "65ca4f85-23a4-4a83-a04a-4522da3cf9e3",
   "metadata": {},
   "outputs": [],
   "source": [
    "df.timeDuration.fillna(df.timeDuration.median(), inplace=True)"
   ]
  },
  {
   "cell_type": "code",
   "execution_count": 97,
   "id": "4696dee6-e2ac-41d8-be8c-d231ba88a8b2",
   "metadata": {},
   "outputs": [
    {
     "data": {
      "text/plain": [
       "count    28027.000000\n",
       "mean         1.594193\n",
       "std          2.994839\n",
       "min          0.000000\n",
       "25%          0.133333\n",
       "50%          0.166667\n",
       "75%          3.000000\n",
       "max         67.000000\n",
       "Name: timeDuration, dtype: float64"
      ]
     },
     "execution_count": 97,
     "metadata": {},
     "output_type": "execute_result"
    }
   ],
   "source": [
    "df.timeDuration.describe()"
   ]
  },
  {
   "cell_type": "code",
   "execution_count": 98,
   "id": "cb48f7f6-57e6-4a3b-9915-e9782da289a0",
   "metadata": {},
   "outputs": [
    {
     "data": {
      "image/png": "[encoded data removed]",
      "text/plain": [
       "<Figure size 640x480 with 1 Axes>"
      ]
     },
     "metadata": {},
     "output_type": "display_data"
    }
   ],
   "source": [
    "sns.boxplot(df.timeDuration);"
   ]
  },
  {
   "cell_type": "markdown",
   "id": "240333b1-ac9c-4af3-a9cb-dbe6fec37a26",
   "metadata": {},
   "source": [
    "- The data is highly skewed to the right, as indicated by the difference between the mean (1.594 minutes) and the median (0.167 minutes). This suggests that while most events or activities are of short duration, there are some long-duration events that pull the mean higher.\n",
    "- The presence of zero durations and the high maximum value contribute to the skewness and the large standard deviation.\n",
    "- Majority of Data: The 25th and 50th percentiles indicate that a large portion of the data (at least 50%) has durations less than or equal to 0.167 minutes.\n",
    "- The gap between the 75th percentile (3 minutes) and the maximum value (67 minutes) suggests the presence of outliers which might need special attention depending on the context of the data."
   ]
  },
  {
   "cell_type": "code",
   "execution_count": 99,
   "id": "4ccc791d-93c6-43f3-8c30-8b6ebd453f25",
   "metadata": {},
   "outputs": [
    {
     "data": {
      "text/plain": [
       "(callChannel\n",
       " Normal    8508\n",
       " Name: count, dtype: int64,\n",
       " 19519)"
      ]
     },
     "execution_count": 99,
     "metadata": {},
     "output_type": "execute_result"
    }
   ],
   "source": [
    "df.callChannel.value_counts(), df.callChannel.isnull().sum()"
   ]
  },
  {
   "cell_type": "markdown",
   "id": "ef8bc708-5e0e-44b6-9223-1f49fdc994e0",
   "metadata": {},
   "source": [
    "Only one category is mentioned here and rest of the data is null which is 69%, so either there is another category which has been missed or else all of them are of one category which is not clear."
   ]
  },
  {
   "cell_type": "code",
   "execution_count": 100,
   "id": "253175c9-08e6-4fc0-8299-af9f150f824b",
   "metadata": {},
   "outputs": [
    {
     "data": {
      "text/plain": [
       "(callIvrType\n",
       " Exotel    8362\n",
       " Name: count, dtype: int64,\n",
       " 19665)"
      ]
     },
     "execution_count": 100,
     "metadata": {},
     "output_type": "execute_result"
    }
   ],
   "source": [
    "df.callIvrType.value_counts(), df.callIvrType.isnull().sum()"
   ]
  },
  {
   "cell_type": "markdown",
   "id": "88d639e4-a1f6-4b17-8404-92136fa5f3c4",
   "metadata": {},
   "source": [
    "Similar to previous column, only one category is mentioned here and rest of the data is null which is 70%, so either there is another category which has been missed or else all of them are of one category which is not clear."
   ]
  },
  {
   "cell_type": "code",
   "execution_count": 101,
   "id": "fa3e2fa0-f60f-4210-99bf-2d1ed8f1ca77",
   "metadata": {},
   "outputs": [
    {
     "data": {
      "text/plain": [
       "(callStatus\n",
       " completed     3453\n",
       " no-answer     1729\n",
       " busy          1270\n",
       " failed        1214\n",
       " incomplete     875\n",
       " Name: count, dtype: int64,\n",
       " 19486)"
      ]
     },
     "execution_count": 101,
     "metadata": {},
     "output_type": "execute_result"
    }
   ],
   "source": [
    "df.callStatus.value_counts(), df.callStatus.isnull().sum()"
   ]
  },
  {
   "cell_type": "code",
   "execution_count": 102,
   "id": "6898e4d3-4c40-4410-b27a-c7ecb4bee288",
   "metadata": {},
   "outputs": [
    {
     "data": {
      "text/plain": [
       "callStatus\n",
       "completed      99.913119\n",
       "no-answer      99.942163\n",
       "busy          100.000000\n",
       "failed         97.611203\n",
       "incomplete    100.000000\n",
       "Name: count, dtype: float64"
      ]
     },
     "execution_count": 102,
     "metadata": {},
     "output_type": "execute_result"
    }
   ],
   "source": [
    "(df[df.consultationType=='Call'].callStatus.value_counts()*100)/df.callStatus.value_counts()"
   ]
  },
  {
   "cell_type": "markdown",
   "id": "7c1decf4-4e09-4c60-a899-b27a349dca13",
   "metadata": {},
   "source": [
    "Here we can see that if consultation is Call then only the call status is getting recorded and rest has been put Null"
   ]
  },
  {
   "cell_type": "code",
   "execution_count": 103,
   "id": "a4aa4e96-61d9-475e-9045-c8a93588480e",
   "metadata": {},
   "outputs": [],
   "source": [
    "df.loc[df.consultationType!='Call', 'callStatus']=np.nan"
   ]
  },
  {
   "cell_type": "code",
   "execution_count": 104,
   "id": "0c07d8bb-aec3-4657-8457-51b7a81ba50d",
   "metadata": {},
   "outputs": [
    {
     "data": {
      "text/plain": [
       "(callStatus\n",
       " completed     3450\n",
       " no-answer     1728\n",
       " busy          1270\n",
       " failed        1185\n",
       " incomplete     875\n",
       " Name: count, dtype: int64,\n",
       " 19519)"
      ]
     },
     "execution_count": 104,
     "metadata": {},
     "output_type": "execute_result"
    }
   ],
   "source": [
    "df.callStatus.value_counts(), df.callStatus.isnull().sum()"
   ]
  },
  {
   "cell_type": "code",
   "execution_count": 105,
   "id": "9e44c742-1b48-43a4-8583-7b9264ad313d",
   "metadata": {},
   "outputs": [
    {
     "data": {
      "text/plain": [
       "consultationType  callStatus\n",
       "Call              completed     3450\n",
       "                  no-answer     1728\n",
       "                  busy          1270\n",
       "                  failed        1185\n",
       "                  incomplete     875\n",
       "Name: count, dtype: int64"
      ]
     },
     "execution_count": 105,
     "metadata": {},
     "output_type": "execute_result"
    }
   ],
   "source": [
    "df[['consultationType', 'callStatus']].value_counts()"
   ]
  },
  {
   "cell_type": "code",
   "execution_count": 106,
   "id": "9d3d5177-cd73-482e-9ff7-310a38df68d5",
   "metadata": {},
   "outputs": [
    {
     "data": {
      "image/png": "[encoded data removed]",
      "text/plain": [
       "<Figure size 640x480 with 1 Axes>"
      ]
     },
     "metadata": {},
     "output_type": "display_data"
    }
   ],
   "source": [
    "plt.pie(df.callStatus.value_counts(), labels=df.callStatus.value_counts().index, autopct='%.0f%%');"
   ]
  },
  {
   "cell_type": "markdown",
   "id": "01982064-a066-465d-9980-e950ad2e3f3a",
   "metadata": {},
   "source": [
    "Here we can see that 41% of call are getting completed and 10% are incomplete"
   ]
  },
  {
   "cell_type": "code",
   "execution_count": 107,
   "id": "147b3b2c-8b4b-4cff-a63e-be29103c762c",
   "metadata": {},
   "outputs": [
    {
     "data": {
      "text/plain": [
       "CallSid\n",
       "6ee3a63b4c75b4f7e891f30265fd17c1    1\n",
       "b832c3037a265f1f27201faee39117ck    1\n",
       "467d264ef213c9773efc84ac941817ck    1\n",
       "89033642fbbc03f5b5aaefe3df9417ck    1\n",
       "e8c8105758b6d0e833d119e6c25d17ck    1\n",
       "                                   ..\n",
       "d8e87ff7053427444ba82b42cb2817ca    1\n",
       "4466678bc1455f8f995b9fb41cd217ca    1\n",
       "9b7eead0dcd2d47e90439e8543c617ca    1\n",
       "962e3bc5968fb24af3fa3e7ade0117ca    1\n",
       "d3daef011bf4a2ec9c23d910aa651814    1\n",
       "Name: count, Length: 8365, dtype: int64"
      ]
     },
     "execution_count": 107,
     "metadata": {},
     "output_type": "execute_result"
    }
   ],
   "source": [
    "df.CallSid.value_counts()"
   ]
  },
  {
   "cell_type": "markdown",
   "id": "f06050b9-3d38-4dd6-9e74-7ce27310db8e",
   "metadata": {},
   "source": [
    "This is some sort of ids"
   ]
  },
  {
   "cell_type": "code",
   "execution_count": 108,
   "id": "290f154f-9247-4c10-af6c-2aa076173968",
   "metadata": {},
   "outputs": [
    {
     "data": {
      "text/plain": [
       "(amount\n",
       " 0.000000     6976\n",
       " 15.000000     148\n",
       " 99.000000     115\n",
       " 25.000000      80\n",
       " 45.000000      50\n",
       "              ... \n",
       " 41.580000       1\n",
       " 29.850000       1\n",
       " 7.050000        1\n",
       " 20.083333       1\n",
       " 14.550000       1\n",
       " Name: count, Length: 936, dtype: int64,\n",
       " 19011,\n",
       " 9016)"
      ]
     },
     "execution_count": 108,
     "metadata": {},
     "output_type": "execute_result"
    }
   ],
   "source": [
    "df.amount.value_counts(), df.amount.isnull().sum(), df.amount.notnull().sum()"
   ]
  },
  {
   "cell_type": "markdown",
   "id": "6fd4d857-b324-4bb1-a770-2aa0861c899e",
   "metadata": {},
   "source": [
    "There are around 19011 rows which are null. Now lets check whether these nulls are free chat and free calls or not and also these amounts are being divided among different groups to find a pattern."
   ]
  },
  {
   "cell_type": "code",
   "execution_count": 109,
   "id": "fdb5eae4-f675-4fe2-a0f1-003d485dac2d",
   "metadata": {},
   "outputs": [
    {
     "data": {
      "text/plain": [
       "(3036, 3447, 5472, 16067)"
      ]
     },
     "execution_count": 109,
     "metadata": {},
     "output_type": "execute_result"
    }
   ],
   "source": [
    "df[df.freeCall==True].amount.shape[0], df[df.freeChat==True].amount.shape[0], df[(df.freeCall==False) & (df.consultationType=='Call')].amount.shape[0], df[(df.freeChat==False) & (df.consultationType=='Chat')].amount.shape[0]"
   ]
  },
  {
   "cell_type": "code",
   "execution_count": 110,
   "id": "ab484dec-6725-4d7c-918b-f7288703be5e",
   "metadata": {},
   "outputs": [
    {
     "data": {
      "text/plain": [
       "amount\n",
       "0.00    1010\n",
       "8.25       1\n",
       "Name: count, dtype: int64"
      ]
     },
     "execution_count": 110,
     "metadata": {},
     "output_type": "execute_result"
    }
   ],
   "source": [
    "df[df.freeCall==True].amount.value_counts()"
   ]
  },
  {
   "cell_type": "markdown",
   "id": "1137b07e-9e4f-4086-a7b2-59db779aa559",
   "metadata": {},
   "source": [
    "8.25 must be an error as all the Free calls doesn't have any amount. We can use this to impute null to 0 where call is free. "
   ]
  },
  {
   "cell_type": "code",
   "execution_count": 111,
   "id": "eb982e0f-fdd2-4263-8c99-e14829f94cfc",
   "metadata": {},
   "outputs": [
    {
     "data": {
      "text/plain": [
       "7       0.00\n",
       "9       0.00\n",
       "21       NaN\n",
       "22       NaN\n",
       "23       NaN\n",
       "        ... \n",
       "8628     NaN\n",
       "8629    8.25\n",
       "8630     NaN\n",
       "8631    0.00\n",
       "8633     NaN\n",
       "Name: amount, Length: 3036, dtype: float64"
      ]
     },
     "execution_count": 111,
     "metadata": {},
     "output_type": "execute_result"
    }
   ],
   "source": [
    "df[df.freeCall==True].amount"
   ]
  },
  {
   "cell_type": "code",
   "execution_count": 112,
   "id": "6b8a38d4-2be9-4af1-bfd8-4da2560096b8",
   "metadata": {},
   "outputs": [],
   "source": [
    "df.loc[df['freeCall'] == True, 'amount'] = df.loc[df['freeCall'] == True, 'amount'].fillna(0)"
   ]
  },
  {
   "cell_type": "code",
   "execution_count": 113,
   "id": "3e63f145-8372-4a4f-9642-b8e72ff62105",
   "metadata": {},
   "outputs": [
    {
     "data": {
      "text/plain": [
       "7       0.00\n",
       "9       0.00\n",
       "21      0.00\n",
       "22      0.00\n",
       "23      0.00\n",
       "        ... \n",
       "8628    0.00\n",
       "8629    8.25\n",
       "8630    0.00\n",
       "8631    0.00\n",
       "8633    0.00\n",
       "Name: amount, Length: 3036, dtype: float64"
      ]
     },
     "execution_count": 113,
     "metadata": {},
     "output_type": "execute_result"
    }
   ],
   "source": [
    "df[df.freeCall==True].amount"
   ]
  },
  {
   "cell_type": "code",
   "execution_count": 114,
   "id": "1c97e10b-02d6-4e36-84c7-b45ef80eb046",
   "metadata": {},
   "outputs": [
    {
     "data": {
      "text/plain": [
       "amount\n",
       "0.000000     1472\n",
       "13.083333       1\n",
       "34.583333       1\n",
       "Name: count, dtype: int64"
      ]
     },
     "execution_count": 114,
     "metadata": {},
     "output_type": "execute_result"
    }
   ],
   "source": [
    "df[df.freeChat==True].amount.value_counts()"
   ]
  },
  {
   "cell_type": "markdown",
   "id": "4ce6833e-f9c7-45b7-abb7-6d953cf87c3a",
   "metadata": {},
   "source": [
    "13.08 and 34.58 is an error. Amount will be zero where chat is Free"
   ]
  },
  {
   "cell_type": "code",
   "execution_count": 115,
   "id": "9d36a095-bf16-4c86-a713-72e06e5e03a7",
   "metadata": {},
   "outputs": [
    {
     "data": {
      "text/plain": [
       "0       NaN\n",
       "1       NaN\n",
       "2       NaN\n",
       "3       NaN\n",
       "5       NaN\n",
       "       ... \n",
       "8553    0.0\n",
       "8597    NaN\n",
       "8607    NaN\n",
       "8616    NaN\n",
       "8625    NaN\n",
       "Name: amount, Length: 3447, dtype: float64"
      ]
     },
     "execution_count": 115,
     "metadata": {},
     "output_type": "execute_result"
    }
   ],
   "source": [
    "df[df.freeChat==True].amount"
   ]
  },
  {
   "cell_type": "code",
   "execution_count": 116,
   "id": "9b92bcf5-b853-4996-8180-ea56f80e00bf",
   "metadata": {},
   "outputs": [],
   "source": [
    "df.loc[df['freeChat'] == True, 'amount'] = df.loc[df['freeChat'] == True, 'amount'].fillna(0)"
   ]
  },
  {
   "cell_type": "code",
   "execution_count": 117,
   "id": "fed1dec5-251e-466a-a860-d2edf95e5137",
   "metadata": {},
   "outputs": [
    {
     "data": {
      "text/plain": [
       "0       0.0\n",
       "1       0.0\n",
       "2       0.0\n",
       "3       0.0\n",
       "5       0.0\n",
       "       ... \n",
       "8553    0.0\n",
       "8597    0.0\n",
       "8607    0.0\n",
       "8616    0.0\n",
       "8625    0.0\n",
       "Name: amount, Length: 3447, dtype: float64"
      ]
     },
     "execution_count": 117,
     "metadata": {},
     "output_type": "execute_result"
    }
   ],
   "source": [
    "df[df.freeChat==True].amount"
   ]
  },
  {
   "cell_type": "code",
   "execution_count": 118,
   "id": "c78207e6-41eb-478e-a44a-db7f09f2e757",
   "metadata": {},
   "outputs": [
    {
     "data": {
      "text/plain": [
       "amount\n",
       "0.000000      1048\n",
       "15.000000      148\n",
       "99.000000      113\n",
       "25.000000       77\n",
       "45.000000       50\n",
       "              ... \n",
       "156.750000       1\n",
       "24.900000        1\n",
       "75.533333        1\n",
       "26.033333        1\n",
       "122.000000       1\n",
       "Name: count, Length: 596, dtype: int64"
      ]
     },
     "execution_count": 118,
     "metadata": {},
     "output_type": "execute_result"
    }
   ],
   "source": [
    "df[(df.freeCall==False) & (df.consultationType=='Call')].amount.value_counts()"
   ]
  },
  {
   "cell_type": "code",
   "execution_count": 119,
   "id": "e6658428-c0c5-4482-b6fc-098299031c70",
   "metadata": {},
   "outputs": [
    {
     "data": {
      "text/plain": [
       "(15013, 13014)"
      ]
     },
     "execution_count": 119,
     "metadata": {},
     "output_type": "execute_result"
    }
   ],
   "source": [
    "df.amount.isnull().sum(), df.amount.notnull().sum()"
   ]
  },
  {
   "cell_type": "code",
   "execution_count": 120,
   "id": "f2613de0-45ab-4202-b461-328943db9b9b",
   "metadata": {},
   "outputs": [
    {
     "data": {
      "text/plain": [
       "(5472,\n",
       " count    2439.000000\n",
       " mean       69.090762\n",
       " std       149.283912\n",
       " min         0.000000\n",
       " 25%         0.000000\n",
       " 50%        15.000000\n",
       " 75%        78.225000\n",
       " max      1800.000000\n",
       " Name: amount, dtype: float64)"
      ]
     },
     "execution_count": 120,
     "metadata": {},
     "output_type": "execute_result"
    }
   ],
   "source": [
    "df[(df.freeCall==False) & (df.consultationType=='Call')].amount.shape[0], df[(df.freeCall==False) & (df.consultationType=='Call')].amount.describe()"
   ]
  },
  {
   "cell_type": "code",
   "execution_count": 121,
   "id": "51a38a0d-2d1c-40d6-8048-42ab0f0c6a6d",
   "metadata": {},
   "outputs": [
    {
     "data": {
      "text/plain": [
       "count    2439.000000\n",
       "mean       69.090762\n",
       "std       149.283912\n",
       "min         0.000000\n",
       "25%         0.000000\n",
       "50%        15.000000\n",
       "75%        78.225000\n",
       "max      1800.000000\n",
       "Name: amount, dtype: float64"
      ]
     },
     "execution_count": 121,
     "metadata": {},
     "output_type": "execute_result"
    }
   ],
   "source": [
    "df[(df.freeCall==False) & (df.consultationType=='Call') & (df.callStatus=='completed')].amount.describe()"
   ]
  },
  {
   "cell_type": "code",
   "execution_count": 122,
   "id": "3280a359-40d9-458d-889c-39b241a30574",
   "metadata": {},
   "outputs": [
    {
     "data": {
      "text/plain": [
       "count    0.0\n",
       "mean     NaN\n",
       "std      NaN\n",
       "min      NaN\n",
       "25%      NaN\n",
       "50%      NaN\n",
       "75%      NaN\n",
       "max      NaN\n",
       "Name: amount, dtype: float64"
      ]
     },
     "execution_count": 122,
     "metadata": {},
     "output_type": "execute_result"
    }
   ],
   "source": [
    "df[(df.freeCall==False) & (df.consultationType=='Call') & (df.callStatus!='completed')].amount.describe()"
   ]
  },
  {
   "cell_type": "code",
   "execution_count": 123,
   "id": "ef0dbf6d-af38-4b05-b8b4-2b3ca509548d",
   "metadata": {},
   "outputs": [
    {
     "data": {
      "text/plain": [
       "amount\n",
       "0.000000     4445\n",
       "7.650000        2\n",
       "4.800000        2\n",
       "6.900000        2\n",
       "3.000000        2\n",
       "8.850000        2\n",
       "8.250000        2\n",
       "6.450000        1\n",
       "14.000000       1\n",
       "11.000000       1\n",
       "17.916667       1\n",
       "45.000000       1\n",
       "14.250000       1\n",
       "8.100000        1\n",
       "7.500000        1\n",
       "8.400000        1\n",
       "8.415000        1\n",
       "6.600000        1\n",
       "9.533333        1\n",
       "3.083333        1\n",
       "4.500000        1\n",
       "44.000000       1\n",
       "5.866667        1\n",
       "7.050000        1\n",
       "6.000000        1\n",
       "10.333333       1\n",
       "5.100000        1\n",
       "4.333333        1\n",
       "Name: count, dtype: int64"
      ]
     },
     "execution_count": 123,
     "metadata": {},
     "output_type": "execute_result"
    }
   ],
   "source": [
    "df[df.timeDuration<1].amount.value_counts()"
   ]
  },
  {
   "cell_type": "markdown",
   "id": "75c0b395-946a-4942-a087-fd037a1d8351",
   "metadata": {},
   "source": [
    "Approx 99.9% whose time duration is less than 1 min, charged 0 amounts, we can use this insights for imputing the the remaining null values."
   ]
  },
  {
   "cell_type": "code",
   "execution_count": 124,
   "id": "46475f78-3cc0-4411-ad4b-0b9ba3d7b147",
   "metadata": {},
   "outputs": [],
   "source": [
    "df.loc[df.timeDuration<1, 'amount'] = df.loc[df.timeDuration<1, 'amount'].fillna(0)"
   ]
  },
  {
   "cell_type": "code",
   "execution_count": 125,
   "id": "cdf0236f-61f1-47c4-9936-f7036aa43871",
   "metadata": {},
   "outputs": [
    {
     "data": {
      "text/plain": [
       "(0.003567988011560281, 99.99643201198845)"
      ]
     },
     "execution_count": 125,
     "metadata": {},
     "output_type": "execute_result"
    }
   ],
   "source": [
    "(df.amount.isnull().sum()*100)/df.shape[0], (df.amount.notnull().sum()*100)/df.shape[0]"
   ]
  },
  {
   "cell_type": "code",
   "execution_count": 126,
   "id": "8a6f5fd6-0657-4709-bb97-28cd5415aaee",
   "metadata": {},
   "outputs": [
    {
     "data": {
      "text/plain": [
       "count    28026.000000\n",
       "mean         7.638118\n",
       "std         50.649287\n",
       "min          0.000000\n",
       "25%          0.000000\n",
       "50%          0.000000\n",
       "75%          0.000000\n",
       "max       1800.000000\n",
       "Name: amount, dtype: float64"
      ]
     },
     "execution_count": 126,
     "metadata": {},
     "output_type": "execute_result"
    }
   ],
   "source": [
    "df.amount.describe()"
   ]
  },
  {
   "cell_type": "code",
   "execution_count": 127,
   "id": "44d4477c-345c-45d7-a8a9-24d9ecbbb77e",
   "metadata": {},
   "outputs": [
    {
     "data": {
      "text/plain": [
       "count    2439.000000\n",
       "mean       69.090762\n",
       "std       149.283912\n",
       "min         0.000000\n",
       "25%         0.000000\n",
       "50%        15.000000\n",
       "75%        78.225000\n",
       "max      1800.000000\n",
       "Name: amount, dtype: float64"
      ]
     },
     "execution_count": 127,
     "metadata": {},
     "output_type": "execute_result"
    }
   ],
   "source": [
    "df[(df.freeCall==False) & (df.consultationType=='Call') & (df.callStatus=='completed')].amount.describe()"
   ]
  },
  {
   "cell_type": "code",
   "execution_count": 128,
   "id": "25c643c9-efcc-49f6-aae1-06e166e7e168",
   "metadata": {},
   "outputs": [
    {
     "data": {
      "text/plain": [
       "(astrologerCallStatus\n",
       " completed    9172\n",
       " no-answer    5367\n",
       " busy         1342\n",
       " failed        377\n",
       " Name: count, dtype: int64,\n",
       " 11769,\n",
       " 16258)"
      ]
     },
     "execution_count": 128,
     "metadata": {},
     "output_type": "execute_result"
    }
   ],
   "source": [
    "df.astrologerCallStatus.value_counts(), df.astrologerCallStatus.isnull().sum(), df.astrologerCallStatus.notnull().sum() "
   ]
  },
  {
   "cell_type": "code",
   "execution_count": 129,
   "id": "ce38f86d-9c91-4686-a717-f714078863b1",
   "metadata": {},
   "outputs": [
    {
     "data": {
      "text/plain": [
       "(145, 11621)"
      ]
     },
     "execution_count": 129,
     "metadata": {},
     "output_type": "execute_result"
    }
   ],
   "source": [
    "df[df.consultationType=='Call'].astrologerCallStatus.isnull().sum(), df[df.consultationType=='Chat'].astrologerCallStatus.isnull().sum()"
   ]
  },
  {
   "cell_type": "code",
   "execution_count": 131,
   "id": "51e1af9b-6233-4955-8521-37bb3d0facad",
   "metadata": {},
   "outputs": [
    {
     "data": {
      "text/plain": [
       "0.987424590024641"
      ]
     },
     "execution_count": 131,
     "metadata": {},
     "output_type": "execute_result"
    }
   ],
   "source": [
    "11621/11769"
   ]
  },
  {
   "cell_type": "markdown",
   "id": "957dcde5-42ed-45c5-99ef-d94e39a6f05c",
   "metadata": {},
   "source": [
    "Almost 99% of data that are null are chats so imputation is not neccesary. "
   ]
  },
  {
   "cell_type": "code",
   "execution_count": 132,
   "id": "34efb9bc-9bec-4770-9cf0-b5e8b1ef5209",
   "metadata": {},
   "outputs": [
    {
     "data": {
      "image/png": "[encoded data removed]",
      "text/plain": [
       "<Figure size 640x480 with 1 Axes>"
      ]
     },
     "metadata": {},
     "output_type": "display_data"
    }
   ],
   "source": [
    "plt.pie(df.astrologerCallStatus.value_counts(), labels=df.astrologerCallStatus.value_counts().index, autopct='%.0f%%');"
   ]
  },
  {
   "cell_type": "code",
   "execution_count": 297,
   "id": "ad5b35d4-fc97-403b-8e24-7cd613510ed5",
   "metadata": {},
   "outputs": [
    {
     "data": {
      "text/plain": [
       "(astrologerOnCallDuration\n",
       " 0.0      2730\n",
       " 188.0     231\n",
       " 189.0     211\n",
       " 37.0      202\n",
       " 190.0     197\n",
       "          ... \n",
       " 218.0       1\n",
       " 763.0       1\n",
       " 697.0       1\n",
       " 764.0       1\n",
       " 391.0       1\n",
       " Name: count, Length: 670, dtype: int64,\n",
       " 19662,\n",
       " 8365)"
      ]
     },
     "execution_count": 297,
     "metadata": {},
     "output_type": "execute_result"
    }
   ],
   "source": [
    "df.astrologerOnCallDuration.value_counts(), df.astrologerOnCallDuration.isnull().sum(), df.astrologerOnCallDuration.notnull().sum()"
   ]
  },
  {
   "cell_type": "code",
   "execution_count": 299,
   "id": "8d3d5743-239e-4f26-a4f7-de6ac8db318f",
   "metadata": {},
   "outputs": [
    {
     "data": {
      "text/plain": [
       "(145, 19514)"
      ]
     },
     "execution_count": 299,
     "metadata": {},
     "output_type": "execute_result"
    }
   ],
   "source": [
    "df[df.consultationType=='Call'].astrologerOnCallDuration.isnull().sum(), df[df.consultationType=='Chat'].astrologerOnCallDuration.isnull().sum()"
   ]
  },
  {
   "cell_type": "code",
   "execution_count": 133,
   "id": "b5a134a0-d90a-4976-9c57-dc0aa4e4a731",
   "metadata": {},
   "outputs": [
    {
     "data": {
      "text/plain": [
       "0.9924727901535958"
      ]
     },
     "execution_count": 133,
     "metadata": {},
     "output_type": "execute_result"
    }
   ],
   "source": [
    "19514/19662"
   ]
  },
  {
   "cell_type": "markdown",
   "id": "dd14ed54-5678-40e5-a8d2-e03f7d22a91f",
   "metadata": {},
   "source": [
    "No need to imputation as 99% nulls are chats."
   ]
  },
  {
   "cell_type": "code",
   "execution_count": 134,
   "id": "5331c32f-388f-4d62-9a74-10362f7a3b1b",
   "metadata": {},
   "outputs": [
    {
     "data": {
      "image/png": "[encoded data removed]",
      "text/plain": [
       "<Figure size 640x480 with 1 Axes>"
      ]
     },
     "metadata": {},
     "output_type": "display_data"
    }
   ],
   "source": [
    "sns.histplot(df.astrologerOnCallDuration, kde=True);"
   ]
  },
  {
   "cell_type": "code",
   "execution_count": 135,
   "id": "4ed182c7-080d-4b26-be21-16f0f94bd261",
   "metadata": {},
   "outputs": [
    {
     "data": {
      "text/plain": [
       "count    8365.000000\n",
       "mean      128.791871\n",
       "std       245.204088\n",
       "min         0.000000\n",
       "25%         0.000000\n",
       "50%        34.000000\n",
       "75%       189.000000\n",
       "max      4029.000000\n",
       "Name: astrologerOnCallDuration, dtype: float64"
      ]
     },
     "execution_count": 135,
     "metadata": {},
     "output_type": "execute_result"
    }
   ],
   "source": [
    "df.astrologerOnCallDuration.describe()"
   ]
  },
  {
   "cell_type": "markdown",
   "id": "ad4b14ad-342c-4c34-8176-23883774f4ca",
   "metadata": {},
   "source": [
    "These look like in seconds"
   ]
  },
  {
   "cell_type": "code",
   "execution_count": 137,
   "id": "3f483eb4-019d-456f-ae28-bda61b4b4398",
   "metadata": {},
   "outputs": [
    {
     "data": {
      "text/plain": [
       "(astrologersEarnings\n",
       " 0.000000     6978\n",
       " 15.000000     147\n",
       " 39.600000     107\n",
       " 12.500000      60\n",
       " 18.000000      49\n",
       "              ... \n",
       " 26.916667       1\n",
       " 16.632000       1\n",
       " 11.940000       1\n",
       " 2.820000        1\n",
       " 7.275000        1\n",
       " Name: count, Length: 959, dtype: int64,\n",
       " 19011,\n",
       " 9016)"
      ]
     },
     "execution_count": 137,
     "metadata": {},
     "output_type": "execute_result"
    }
   ],
   "source": [
    "df.astrologersEarnings.value_counts(), df.astrologersEarnings.isnull().sum(), df.astrologersEarnings.notnull().sum()"
   ]
  },
  {
   "cell_type": "code",
   "execution_count": 138,
   "id": "328743e9-4c73-4f85-91e8-dda238d96c68",
   "metadata": {},
   "outputs": [
    {
     "data": {
      "text/plain": [
       "(5058, 13950)"
      ]
     },
     "execution_count": 138,
     "metadata": {},
     "output_type": "execute_result"
    }
   ],
   "source": [
    "df[df.consultationType=='Call'].astrologersEarnings.isnull().sum(), df[df.consultationType=='Chat'].astrologersEarnings.isnull().sum()"
   ]
  },
  {
   "cell_type": "code",
   "execution_count": 139,
   "id": "ecf55655-c183-416b-b994-7966e968f034",
   "metadata": {},
   "outputs": [
    {
     "data": {
      "text/plain": [
       "(0.2660564936089632, 0.7337857030140446)"
      ]
     },
     "execution_count": 139,
     "metadata": {},
     "output_type": "execute_result"
    }
   ],
   "source": [
    "df[df.consultationType=='Call'].astrologersEarnings.isnull().sum()/df.astrologersEarnings.isnull().sum(), df[df.consultationType=='Chat'].astrologersEarnings.isnull().sum()/df.astrologersEarnings.isnull().sum()"
   ]
  },
  {
   "cell_type": "markdown",
   "id": "3fc0089d-6430-41d9-9afc-543bbca895f1",
   "metadata": {},
   "source": [
    "Astrologer's earning is not completely depended on chat or call. They are earning from both options."
   ]
  },
  {
   "cell_type": "code",
   "execution_count": 141,
   "id": "20b90621-c57c-42e6-ae4e-9a04f1d207d9",
   "metadata": {},
   "outputs": [
    {
     "data": {
      "text/plain": [
       "astrologersEarnings\n",
       "0.0    6976\n",
       "Name: count, dtype: int64"
      ]
     },
     "execution_count": 141,
     "metadata": {},
     "output_type": "execute_result"
    }
   ],
   "source": [
    "df[df.amount==0].astrologersEarnings.value_counts()"
   ]
  },
  {
   "cell_type": "markdown",
   "id": "87580b38-914a-4ae9-9227-9258f1a43b4c",
   "metadata": {},
   "source": [
    "If amount is 0 then the earnings will also be 0"
   ]
  },
  {
   "cell_type": "code",
   "execution_count": 142,
   "id": "442aacba-a79c-4390-854a-975252e40182",
   "metadata": {},
   "outputs": [],
   "source": [
    "df.loc[df.amount==0, 'astrologersEarnings']=df.loc[df.amount==0, 'astrologersEarnings'].fillna(0)"
   ]
  },
  {
   "cell_type": "code",
   "execution_count": 144,
   "id": "13853ae7-7bde-4ae8-af0a-9a5657939282",
   "metadata": {},
   "outputs": [
    {
     "data": {
      "text/plain": [
       "(1, 28026)"
      ]
     },
     "execution_count": 144,
     "metadata": {},
     "output_type": "execute_result"
    }
   ],
   "source": [
    "df.astrologersEarnings.isnull().sum(), df.astrologersEarnings.notnull().sum()"
   ]
  },
  {
   "cell_type": "code",
   "execution_count": 143,
   "id": "d4a20eeb-f949-4fe5-8737-2d5ca349f2ec",
   "metadata": {},
   "outputs": [
    {
     "data": {
      "image/png": "[encoded data removed]",
      "text/plain": [
       "<Figure size 640x480 with 1 Axes>"
      ]
     },
     "metadata": {},
     "output_type": "display_data"
    }
   ],
   "source": [
    "sns.scatterplot(data=df, x='astrologersEarnings', y='astrologerOnCallDuration');"
   ]
  },
  {
   "cell_type": "markdown",
   "id": "62d23bad-139d-4ac3-9731-9abd380b57d5",
   "metadata": {},
   "source": [
    "- There is a clear positive correlation between the two variables. As \"astrologersEarnings\" increases, \"astrologerOnCallDuration\" tends to increase as well. This indicates that higher earnings are generally associated with longer call durations.\n",
    "- Most of the data points are clustered in the lower ranges of both variables. Specifically, a dense cluster is visible for \"astrologersEarnings\" between 0 and 200 and \"astrologerOnCallDuration\" between 0 and 500. There are several outliers, particularly in the higher ranges of \"astrologerOnCallDuration\" where durations exceed 1000, 2000, and even 3000 minutes, but these do not correspond to significantly higher earnings. This suggests that some astrologers may have long call durations but relatively moderate earnings.\n",
    "Earnings Spread: For \"astrologersEarnings\" above 200, there is a noticeable spread in \"astrologerOnCallDuration\". Some astrologers earn more with varying call durations, indicating that earnings are not strictly proportional to call duration in these higher ranges.\n",
    "- While there is a positive correlation, the relationship does not appear to be perfectly linear. The variability in call duration increases with earnings, suggesting that factors other than call duration might also influence earnings.\n",
    "- The plot shows higher density of points in the lower-left quadrant, indicating that many astrologers have both low earnings and low call durations. This might represent the majority who are either new or less popular.\n",
    "<br><br>\n",
    "In summary, the scatter plot shows that while there is a general trend of higher earnings with longer call durations, the relationship is not strictly linear and there are significant variations and outliers. Other factors likely contribute to an astrologer's earnings beyond just the duration of their calls."
   ]
  },
  {
   "cell_type": "code",
   "execution_count": 146,
   "id": "d1a06240-e46e-4df5-bc8a-7bb764b2db5b",
   "metadata": {},
   "outputs": [
    {
     "data": {
      "text/plain": [
       "(netAmount\n",
       " 0.000000      6978\n",
       " 15.000000      148\n",
       " 99.000000      115\n",
       " 25.000000       80\n",
       " 45.000000       50\n",
       "               ... \n",
       " 269.166667       1\n",
       " 41.580000        1\n",
       " 29.850000        1\n",
       " 7.050000         1\n",
       " 14.550000        1\n",
       " Name: count, Length: 935, dtype: int64,\n",
       " 19011,\n",
       " 9016)"
      ]
     },
     "execution_count": 146,
     "metadata": {},
     "output_type": "execute_result"
    }
   ],
   "source": [
    "df.netAmount.value_counts(), df.netAmount.isnull().sum(), df.netAmount.notnull().sum()"
   ]
  },
  {
   "cell_type": "code",
   "execution_count": 151,
   "id": "239f3951-1639-4537-bea7-ae31a258329b",
   "metadata": {},
   "outputs": [
    {
     "data": {
      "text/html": [
       "<div>\n",
       "<style scoped>\n",
       "    .dataframe tbody tr th:only-of-type {\n",
       "        vertical-align: middle;\n",
       "    }\n",
       "\n",
       "    .dataframe tbody tr th {\n",
       "        vertical-align: top;\n",
       "    }\n",
       "\n",
       "    .dataframe thead th {\n",
       "        text-align: right;\n",
       "    }\n",
       "</style>\n",
       "<table border=\"1\" class=\"dataframe\">\n",
       "  <thead>\n",
       "    <tr style=\"text-align: right;\">\n",
       "      <th></th>\n",
       "      <th>amount</th>\n",
       "      <th>astrologersEarnings</th>\n",
       "      <th>netAmount</th>\n",
       "    </tr>\n",
       "  </thead>\n",
       "  <tbody>\n",
       "    <tr>\n",
       "      <th>59</th>\n",
       "      <td>24.083333</td>\n",
       "      <td>24.083333</td>\n",
       "      <td>24.083333</td>\n",
       "    </tr>\n",
       "    <tr>\n",
       "      <th>64</th>\n",
       "      <td>64.166667</td>\n",
       "      <td>25.666667</td>\n",
       "      <td>64.166667</td>\n",
       "    </tr>\n",
       "    <tr>\n",
       "      <th>66</th>\n",
       "      <td>108.166667</td>\n",
       "      <td>43.266667</td>\n",
       "      <td>108.166667</td>\n",
       "    </tr>\n",
       "    <tr>\n",
       "      <th>81</th>\n",
       "      <td>117.516667</td>\n",
       "      <td>47.006667</td>\n",
       "      <td>117.516667</td>\n",
       "    </tr>\n",
       "    <tr>\n",
       "      <th>129</th>\n",
       "      <td>15.000000</td>\n",
       "      <td>15.000000</td>\n",
       "      <td>15.000000</td>\n",
       "    </tr>\n",
       "    <tr>\n",
       "      <th>...</th>\n",
       "      <td>...</td>\n",
       "      <td>...</td>\n",
       "      <td>...</td>\n",
       "    </tr>\n",
       "    <tr>\n",
       "      <th>28014</th>\n",
       "      <td>24.583333</td>\n",
       "      <td>24.583333</td>\n",
       "      <td>24.583333</td>\n",
       "    </tr>\n",
       "    <tr>\n",
       "      <th>28017</th>\n",
       "      <td>41.550000</td>\n",
       "      <td>20.775000</td>\n",
       "      <td>41.550000</td>\n",
       "    </tr>\n",
       "    <tr>\n",
       "      <th>28019</th>\n",
       "      <td>23.550000</td>\n",
       "      <td>11.775000</td>\n",
       "      <td>23.550000</td>\n",
       "    </tr>\n",
       "    <tr>\n",
       "      <th>28021</th>\n",
       "      <td>15.120000</td>\n",
       "      <td>7.560000</td>\n",
       "      <td>15.120000</td>\n",
       "    </tr>\n",
       "    <tr>\n",
       "      <th>28022</th>\n",
       "      <td>14.550000</td>\n",
       "      <td>7.275000</td>\n",
       "      <td>14.550000</td>\n",
       "    </tr>\n",
       "  </tbody>\n",
       "</table>\n",
       "<p>2038 rows × 3 columns</p>\n",
       "</div>"
      ],
      "text/plain": [
       "           amount  astrologersEarnings   netAmount\n",
       "59      24.083333            24.083333   24.083333\n",
       "64      64.166667            25.666667   64.166667\n",
       "66     108.166667            43.266667  108.166667\n",
       "81     117.516667            47.006667  117.516667\n",
       "129     15.000000            15.000000   15.000000\n",
       "...           ...                  ...         ...\n",
       "28014   24.583333            24.583333   24.583333\n",
       "28017   41.550000            20.775000   41.550000\n",
       "28019   23.550000            11.775000   23.550000\n",
       "28021   15.120000             7.560000   15.120000\n",
       "28022   14.550000             7.275000   14.550000\n",
       "\n",
       "[2038 rows x 3 columns]"
      ]
     },
     "execution_count": 151,
     "metadata": {},
     "output_type": "execute_result"
    }
   ],
   "source": [
    "df[(df.netAmount!=0) & (df.netAmount.notnull())][['amount', 'astrologersEarnings', 'netAmount']]"
   ]
  },
  {
   "cell_type": "code",
   "execution_count": 153,
   "id": "15ffa3dd-73e1-4b58-a363-234419c332c3",
   "metadata": {},
   "outputs": [
    {
     "data": {
      "text/html": [
       "<div>\n",
       "<style scoped>\n",
       "    .dataframe tbody tr th:only-of-type {\n",
       "        vertical-align: middle;\n",
       "    }\n",
       "\n",
       "    .dataframe tbody tr th {\n",
       "        vertical-align: top;\n",
       "    }\n",
       "\n",
       "    .dataframe thead th {\n",
       "        text-align: right;\n",
       "    }\n",
       "</style>\n",
       "<table border=\"1\" class=\"dataframe\">\n",
       "  <thead>\n",
       "    <tr style=\"text-align: right;\">\n",
       "      <th></th>\n",
       "      <th>amount</th>\n",
       "      <th>astrologersEarnings</th>\n",
       "      <th>netAmount</th>\n",
       "    </tr>\n",
       "  </thead>\n",
       "  <tbody>\n",
       "    <tr>\n",
       "      <th>59</th>\n",
       "      <td>24.083333</td>\n",
       "      <td>24.083333</td>\n",
       "      <td>24.083333</td>\n",
       "    </tr>\n",
       "    <tr>\n",
       "      <th>64</th>\n",
       "      <td>64.166667</td>\n",
       "      <td>25.666667</td>\n",
       "      <td>64.166667</td>\n",
       "    </tr>\n",
       "    <tr>\n",
       "      <th>66</th>\n",
       "      <td>108.166667</td>\n",
       "      <td>43.266667</td>\n",
       "      <td>108.166667</td>\n",
       "    </tr>\n",
       "    <tr>\n",
       "      <th>81</th>\n",
       "      <td>117.516667</td>\n",
       "      <td>47.006667</td>\n",
       "      <td>117.516667</td>\n",
       "    </tr>\n",
       "    <tr>\n",
       "      <th>129</th>\n",
       "      <td>15.000000</td>\n",
       "      <td>15.000000</td>\n",
       "      <td>15.000000</td>\n",
       "    </tr>\n",
       "    <tr>\n",
       "      <th>...</th>\n",
       "      <td>...</td>\n",
       "      <td>...</td>\n",
       "      <td>...</td>\n",
       "    </tr>\n",
       "    <tr>\n",
       "      <th>28014</th>\n",
       "      <td>24.583333</td>\n",
       "      <td>24.583333</td>\n",
       "      <td>24.583333</td>\n",
       "    </tr>\n",
       "    <tr>\n",
       "      <th>28017</th>\n",
       "      <td>41.550000</td>\n",
       "      <td>20.775000</td>\n",
       "      <td>41.550000</td>\n",
       "    </tr>\n",
       "    <tr>\n",
       "      <th>28019</th>\n",
       "      <td>23.550000</td>\n",
       "      <td>11.775000</td>\n",
       "      <td>23.550000</td>\n",
       "    </tr>\n",
       "    <tr>\n",
       "      <th>28021</th>\n",
       "      <td>15.120000</td>\n",
       "      <td>7.560000</td>\n",
       "      <td>15.120000</td>\n",
       "    </tr>\n",
       "    <tr>\n",
       "      <th>28022</th>\n",
       "      <td>14.550000</td>\n",
       "      <td>7.275000</td>\n",
       "      <td>14.550000</td>\n",
       "    </tr>\n",
       "  </tbody>\n",
       "</table>\n",
       "<p>2037 rows × 3 columns</p>\n",
       "</div>"
      ],
      "text/plain": [
       "           amount  astrologersEarnings   netAmount\n",
       "59      24.083333            24.083333   24.083333\n",
       "64      64.166667            25.666667   64.166667\n",
       "66     108.166667            43.266667  108.166667\n",
       "81     117.516667            47.006667  117.516667\n",
       "129     15.000000            15.000000   15.000000\n",
       "...           ...                  ...         ...\n",
       "28014   24.583333            24.583333   24.583333\n",
       "28017   41.550000            20.775000   41.550000\n",
       "28019   23.550000            11.775000   23.550000\n",
       "28021   15.120000             7.560000   15.120000\n",
       "28022   14.550000             7.275000   14.550000\n",
       "\n",
       "[2037 rows x 3 columns]"
      ]
     },
     "execution_count": 153,
     "metadata": {},
     "output_type": "execute_result"
    }
   ],
   "source": [
    "df[(df.netAmount!=0) & (df.netAmount==df.amount)][['amount', 'astrologersEarnings', 'netAmount']]"
   ]
  },
  {
   "cell_type": "markdown",
   "id": "21aaaf51-0330-429d-80fe-f45ca5f8bad6",
   "metadata": {},
   "source": [
    "It looks like netAmout is same as amount"
   ]
  },
  {
   "cell_type": "code",
   "execution_count": 155,
   "id": "b9f2d53a-0767-4833-bac6-17e8bc70d5de",
   "metadata": {},
   "outputs": [],
   "source": [
    "df.netAmount.fillna(df.amount, inplace=True)"
   ]
  },
  {
   "cell_type": "code",
   "execution_count": 156,
   "id": "5de962a2-eb71-446d-844b-e1fa7d24c5e8",
   "metadata": {},
   "outputs": [
    {
     "data": {
      "text/plain": [
       "1"
      ]
     },
     "execution_count": 156,
     "metadata": {},
     "output_type": "execute_result"
    }
   ],
   "source": [
    "df.netAmount.isnull().sum()"
   ]
  },
  {
   "cell_type": "code",
   "execution_count": 158,
   "id": "5294fc53-d069-4c4e-86a7-07b1d85d8440",
   "metadata": {},
   "outputs": [
    {
     "data": {
      "text/plain": [
       "(region\n",
       " Indian    9019\n",
       " Name: count, dtype: int64,\n",
       " 19008,\n",
       " 9019)"
      ]
     },
     "execution_count": 158,
     "metadata": {},
     "output_type": "execute_result"
    }
   ],
   "source": [
    "df.region.value_counts(), df.region.isnull().sum(), df.region.notnull().sum()"
   ]
  },
  {
   "cell_type": "code",
   "execution_count": 159,
   "id": "bd3d185d-4d38-427e-9a8e-f68c77792c86",
   "metadata": {},
   "outputs": [],
   "source": [
    "df.region.fillna('Indian', inplace=True)"
   ]
  },
  {
   "cell_type": "code",
   "execution_count": 161,
   "id": "5ba945f7-7beb-496d-88df-3f0a61d9a7c4",
   "metadata": {},
   "outputs": [
    {
     "data": {
      "text/plain": [
       "(userCallStatus\n",
       " completed    7621\n",
       " canceled      992\n",
       " busy          439\n",
       " no-answer     207\n",
       " failed         86\n",
       " Name: count, dtype: int64,\n",
       " 18682,\n",
       " 9345)"
      ]
     },
     "execution_count": 161,
     "metadata": {},
     "output_type": "execute_result"
    }
   ],
   "source": [
    "df.userCallStatus.value_counts(), df.userCallStatus.isnull().sum(), df.userCallStatus.notnull().sum()"
   ]
  },
  {
   "cell_type": "code",
   "execution_count": 162,
   "id": "62985da5-33d7-4ddd-9665-ca7a431cc576",
   "metadata": {},
   "outputs": [
    {
     "data": {
      "text/plain": [
       "(userCallStatus\n",
       " completed    4324\n",
       " canceled      558\n",
       " busy          439\n",
       " no-answer     206\n",
       " failed         86\n",
       " Name: count, dtype: int64,\n",
       " userCallStatus\n",
       " completed    3296\n",
       " canceled      434\n",
       " Name: count, dtype: int64)"
      ]
     },
     "execution_count": 162,
     "metadata": {},
     "output_type": "execute_result"
    }
   ],
   "source": [
    "df[df.consultationType=='Call'].userCallStatus.value_counts(), df[df.consultationType=='Chat'].userCallStatus.value_counts()"
   ]
  },
  {
   "cell_type": "markdown",
   "id": "9b72c1e6-7051-4a8b-a554-60ca0888a8fe",
   "metadata": {},
   "source": [
    "User Call status is not depended on consulation type"
   ]
  },
  {
   "cell_type": "code",
   "execution_count": null,
   "id": "c2550d25-4468-4bf7-ac16-2daa537062ae",
   "metadata": {},
   "outputs": [],
   "source": []
  }
 ],
 "metadata": {
  "kernelspec": {
   "display_name": "Python 3 (ipykernel)",
   "language": "python",
   "name": "python3"
  },
  "language_info": {
   "codemirror_mode": {
    "name": "ipython",
    "version": 3
   },
   "file_extension": ".py",
   "mimetype": "text/x-python",
   "name": "python",
   "nbconvert_exporter": "python",
   "pygments_lexer": "ipython3",
   "version": "3.12.2"
  }
 },
 "nbformat": 4,
 "nbformat_minor": 5
}
